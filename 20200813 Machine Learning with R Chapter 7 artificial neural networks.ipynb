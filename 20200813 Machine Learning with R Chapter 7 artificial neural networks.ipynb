{
 "cells": [
  {
   "cell_type": "markdown",
   "metadata": {},
   "source": [
    "# Concrete dataset: artificial neural network\n",
    "The following exercise is taken from <b> Machine Learning with R</b> by <b> Brett Lantz </b> (Third Edition)\n",
    "\n",
    "The dataset used in the exercise is the <b>compressive strength of concrete</b> dataset. The dataset was orginainally published in a study by <b>I-Cheng Yeh</b> in 1998. The dataset here is downloaded from the textbook's github page. The dataset is also freely available at <b>UCI Machine Learning Repository</b>."
   ]
  },
  {
   "cell_type": "markdown",
   "metadata": {},
   "source": [
    "## Step 1: Collecting the data"
   ]
  },
  {
   "cell_type": "code",
   "execution_count": 1,
   "metadata": {},
   "outputs": [],
   "source": [
    "concrete <- read.csv(\"https://raw.githubusercontent.com/PacktPublishing/Machine-Learning-with-R-Third-Edition/master/Chapter07/concrete.csv\")"
   ]
  },
  {
   "cell_type": "markdown",
   "metadata": {},
   "source": [
    "## Step 1: Exploring and preparing the dataset"
   ]
  },
  {
   "cell_type": "code",
   "execution_count": 2,
   "metadata": {},
   "outputs": [
    {
     "name": "stdout",
     "output_type": "stream",
     "text": [
      "'data.frame':\t1030 obs. of  9 variables:\n",
      " $ cement      : num  141 169 250 266 155 ...\n",
      " $ slag        : num  212 42.2 0 114 183.4 ...\n",
      " $ ash         : num  0 124.3 95.7 0 0 ...\n",
      " $ water       : num  204 158 187 228 193 ...\n",
      " $ superplastic: num  0 10.8 5.5 0 9.1 0 0 6.4 0 9 ...\n",
      " $ coarseagg   : num  972 1081 957 932 1047 ...\n",
      " $ fineagg     : num  748 796 861 670 697 ...\n",
      " $ age         : int  28 14 28 28 28 90 7 56 28 28 ...\n",
      " $ strength    : num  29.9 23.5 29.2 45.9 18.3 ...\n"
     ]
    }
   ],
   "source": [
    "str(concrete)"
   ]
  },
  {
   "cell_type": "code",
   "execution_count": 21,
   "metadata": {},
   "outputs": [
    {
     "data": {
      "text/plain": [
       "   Min. 1st Qu.  Median    Mean 3rd Qu.    Max. \n",
       " 0.0000  0.2664  0.4001  0.4172  0.5457  1.0000 "
      ]
     },
     "metadata": {},
     "output_type": "display_data"
    },
    {
     "data": {
      "text/plain": [
       "   Min. 1st Qu.  Median    Mean 3rd Qu.    Max. \n",
       "   2.33   23.71   34.45   35.82   46.13   82.60 "
      ]
     },
     "metadata": {},
     "output_type": "display_data"
    }
   ],
   "source": [
    "# Normalization is required: While there are two approaches, depending on the distribution of the data\n",
    "# in this case min-max standardization is best\n",
    "\n",
    "normalize <- function(x) {\n",
    "    return((x - min(x))/ (max(x) - min(x)))\n",
    "}\n",
    "\n",
    "concrete_norm <- as.data.frame(lapply(concrete, normalize))\n",
    "summary(concrete_norm$strength)\n",
    "summary(concrete$strength)\n",
    "\n",
    "# These tranformations will have to be applid in reverse to convert the results to the oriiginal scale of measurement\n",
    "\n",
    "concrete_train <- concrete_norm[1:773,]\n",
    "concrete_test <- concrete_norm[774:1030,]"
   ]
  },
  {
   "cell_type": "markdown",
   "metadata": {},
   "source": [
    "## Step 3: Training a model on the data"
   ]
  },
  {
   "cell_type": "code",
   "execution_count": 16,
   "metadata": {},
   "outputs": [
    {
     "data": {
      "text/html": [
       "<table>\n",
       "<caption>A matrix: 14 × 1 of type dbl</caption>\n",
       "<tbody>\n",
       "\t<tr><th scope=row>error</th><td> 5.086089e+00</td></tr>\n",
       "\t<tr><th scope=row>reached.threshold</th><td> 9.468565e-03</td></tr>\n",
       "\t<tr><th scope=row>steps</th><td> 1.861000e+03</td></tr>\n",
       "\t<tr><th scope=row>Intercept.to.1layhid1</th><td> 1.528203e+00</td></tr>\n",
       "\t<tr><th scope=row>cement.to.1layhid1</th><td>-3.924881e+00</td></tr>\n",
       "\t<tr><th scope=row>slag.to.1layhid1</th><td>-2.176521e+00</td></tr>\n",
       "\t<tr><th scope=row>ash.to.1layhid1</th><td>-6.338508e-01</td></tr>\n",
       "\t<tr><th scope=row>water.to.1layhid1</th><td> 2.046894e+00</td></tr>\n",
       "\t<tr><th scope=row>superplastic.to.1layhid1</th><td>-1.245751e+00</td></tr>\n",
       "\t<tr><th scope=row>coarseagg.to.1layhid1</th><td> 1.560701e-01</td></tr>\n",
       "\t<tr><th scope=row>fineagg.to.1layhid1</th><td> 2.972799e-01</td></tr>\n",
       "\t<tr><th scope=row>age.to.1layhid1</th><td>-1.069231e+01</td></tr>\n",
       "\t<tr><th scope=row>Intercept.to.strength</th><td> 6.744125e-01</td></tr>\n",
       "\t<tr><th scope=row>1layhid1.to.strength</th><td>-7.070840e-01</td></tr>\n",
       "</tbody>\n",
       "</table>\n"
      ],
      "text/latex": [
       "A matrix: 14 × 1 of type dbl\n",
       "\\begin{tabular}{r|l}\n",
       "\terror &  5.086089e+00\\\\\n",
       "\treached.threshold &  9.468565e-03\\\\\n",
       "\tsteps &  1.861000e+03\\\\\n",
       "\tIntercept.to.1layhid1 &  1.528203e+00\\\\\n",
       "\tcement.to.1layhid1 & -3.924881e+00\\\\\n",
       "\tslag.to.1layhid1 & -2.176521e+00\\\\\n",
       "\tash.to.1layhid1 & -6.338508e-01\\\\\n",
       "\twater.to.1layhid1 &  2.046894e+00\\\\\n",
       "\tsuperplastic.to.1layhid1 & -1.245751e+00\\\\\n",
       "\tcoarseagg.to.1layhid1 &  1.560701e-01\\\\\n",
       "\tfineagg.to.1layhid1 &  2.972799e-01\\\\\n",
       "\tage.to.1layhid1 & -1.069231e+01\\\\\n",
       "\tIntercept.to.strength &  6.744125e-01\\\\\n",
       "\t1layhid1.to.strength & -7.070840e-01\\\\\n",
       "\\end{tabular}\n"
      ],
      "text/markdown": [
       "\n",
       "A matrix: 14 × 1 of type dbl\n",
       "\n",
       "| error |  5.086089e+00 |\n",
       "| reached.threshold |  9.468565e-03 |\n",
       "| steps |  1.861000e+03 |\n",
       "| Intercept.to.1layhid1 |  1.528203e+00 |\n",
       "| cement.to.1layhid1 | -3.924881e+00 |\n",
       "| slag.to.1layhid1 | -2.176521e+00 |\n",
       "| ash.to.1layhid1 | -6.338508e-01 |\n",
       "| water.to.1layhid1 |  2.046894e+00 |\n",
       "| superplastic.to.1layhid1 | -1.245751e+00 |\n",
       "| coarseagg.to.1layhid1 |  1.560701e-01 |\n",
       "| fineagg.to.1layhid1 |  2.972799e-01 |\n",
       "| age.to.1layhid1 | -1.069231e+01 |\n",
       "| Intercept.to.strength |  6.744125e-01 |\n",
       "| 1layhid1.to.strength | -7.070840e-01 |\n",
       "\n"
      ],
      "text/plain": [
       "                         [,1]         \n",
       "error                     5.086089e+00\n",
       "reached.threshold         9.468565e-03\n",
       "steps                     1.861000e+03\n",
       "Intercept.to.1layhid1     1.528203e+00\n",
       "cement.to.1layhid1       -3.924881e+00\n",
       "slag.to.1layhid1         -2.176521e+00\n",
       "ash.to.1layhid1          -6.338508e-01\n",
       "water.to.1layhid1         2.046894e+00\n",
       "superplastic.to.1layhid1 -1.245751e+00\n",
       "coarseagg.to.1layhid1     1.560701e-01\n",
       "fineagg.to.1layhid1       2.972799e-01\n",
       "age.to.1layhid1          -1.069231e+01\n",
       "Intercept.to.strength     6.744125e-01\n",
       "1layhid1.to.strength     -7.070840e-01"
      ]
     },
     "metadata": {},
     "output_type": "display_data"
    },
    {
     "name": "stderr",
     "output_type": "stream",
     "text": [
      "SHA-1 hash of file is 74c80bd5ddbc17ab3ae5ece9c0ed9beb612e87ef\n",
      "\n"
     ]
    },
    {
     "data": {
      "image/png": "[encoded data removed]",
      "text/plain": [
       "plot without title"
      ]
     },
     "metadata": {
      "image/png": {
       "height": 420,
       "width": 420
      }
     },
     "output_type": "display_data"
    }
   ],
   "source": [
    "library(neuralnet)\n",
    "concrete_model <- neuralnet(strength ~ cement + slag + ash + water + \n",
    "                            superplastic + coarseagg + fineagg + age, data = concrete_train)\n",
    "\n",
    "concrete_model$result.matrix\n",
    "\n",
    "library(devtools)\n",
    "source_url('https://gist.githubusercontent.com/fawda123/7471137/raw/466c1474d0a505ff044412703516c34f1a4684a5/nnet_plot_update.r')\n",
    "plot.nnet(concrete_model)"
   ]
  },
  {
   "cell_type": "markdown",
   "metadata": {},
   "source": [
    "## Step 4: Evaluating model performance"
   ]
  },
  {
   "cell_type": "code",
   "execution_count": 25,
   "metadata": {},
   "outputs": [
    {
     "data": {
      "text/html": [
       "<table>\n",
       "<caption>A matrix: 1 × 1 of type dbl</caption>\n",
       "<tbody>\n",
       "\t<tr><td>0.8056709</td></tr>\n",
       "</tbody>\n",
       "</table>\n"
      ],
      "text/latex": [
       "A matrix: 1 × 1 of type dbl\n",
       "\\begin{tabular}{l}\n",
       "\t 0.8056709\\\\\n",
       "\\end{tabular}\n"
      ],
      "text/markdown": [
       "\n",
       "A matrix: 1 × 1 of type dbl\n",
       "\n",
       "| 0.8056709 |\n",
       "\n"
      ],
      "text/plain": [
       "     [,1]     \n",
       "[1,] 0.8056709"
      ]
     },
     "metadata": {},
     "output_type": "display_data"
    }
   ],
   "source": [
    "model_results <- compute(concrete_model, concrete_test[1:8])\n",
    "predicted_strength <- model_results$net.result\n",
    "\n",
    "# since this is a numeric prediction, a confusion matrix does not make much sense. \n",
    "# The correlation between predicted and actual labels is a better evaluation criteria\n",
    "\n",
    "cor(predicted_strength, concrete_test$strength)"
   ]
  },
  {
   "cell_type": "markdown",
   "metadata": {},
   "source": [
    "- a fairly good result, given that there ist just one hidden layer with one node"
   ]
  },
  {
   "cell_type": "markdown",
   "metadata": {},
   "source": [
    "## Step 5: Improving model performance"
   ]
  },
  {
   "cell_type": "code",
   "execution_count": 32,
   "metadata": {},
   "outputs": [
    {
     "data": {
      "text/html": [
       "<table>\n",
       "<caption>A matrix: 14 × 1 of type dbl</caption>\n",
       "<tbody>\n",
       "\t<tr><th scope=row>error</th><td> 5.086089e+00</td></tr>\n",
       "\t<tr><th scope=row>reached.threshold</th><td> 9.468565e-03</td></tr>\n",
       "\t<tr><th scope=row>steps</th><td> 1.861000e+03</td></tr>\n",
       "\t<tr><th scope=row>Intercept.to.1layhid1</th><td> 1.528203e+00</td></tr>\n",
       "\t<tr><th scope=row>cement.to.1layhid1</th><td>-3.924881e+00</td></tr>\n",
       "\t<tr><th scope=row>slag.to.1layhid1</th><td>-2.176521e+00</td></tr>\n",
       "\t<tr><th scope=row>ash.to.1layhid1</th><td>-6.338508e-01</td></tr>\n",
       "\t<tr><th scope=row>water.to.1layhid1</th><td> 2.046894e+00</td></tr>\n",
       "\t<tr><th scope=row>superplastic.to.1layhid1</th><td>-1.245751e+00</td></tr>\n",
       "\t<tr><th scope=row>coarseagg.to.1layhid1</th><td> 1.560701e-01</td></tr>\n",
       "\t<tr><th scope=row>fineagg.to.1layhid1</th><td> 2.972799e-01</td></tr>\n",
       "\t<tr><th scope=row>age.to.1layhid1</th><td>-1.069231e+01</td></tr>\n",
       "\t<tr><th scope=row>Intercept.to.strength</th><td> 6.744125e-01</td></tr>\n",
       "\t<tr><th scope=row>1layhid1.to.strength</th><td>-7.070840e-01</td></tr>\n",
       "</tbody>\n",
       "</table>\n"
      ],
      "text/latex": [
       "A matrix: 14 × 1 of type dbl\n",
       "\\begin{tabular}{r|l}\n",
       "\terror &  5.086089e+00\\\\\n",
       "\treached.threshold &  9.468565e-03\\\\\n",
       "\tsteps &  1.861000e+03\\\\\n",
       "\tIntercept.to.1layhid1 &  1.528203e+00\\\\\n",
       "\tcement.to.1layhid1 & -3.924881e+00\\\\\n",
       "\tslag.to.1layhid1 & -2.176521e+00\\\\\n",
       "\tash.to.1layhid1 & -6.338508e-01\\\\\n",
       "\twater.to.1layhid1 &  2.046894e+00\\\\\n",
       "\tsuperplastic.to.1layhid1 & -1.245751e+00\\\\\n",
       "\tcoarseagg.to.1layhid1 &  1.560701e-01\\\\\n",
       "\tfineagg.to.1layhid1 &  2.972799e-01\\\\\n",
       "\tage.to.1layhid1 & -1.069231e+01\\\\\n",
       "\tIntercept.to.strength &  6.744125e-01\\\\\n",
       "\t1layhid1.to.strength & -7.070840e-01\\\\\n",
       "\\end{tabular}\n"
      ],
      "text/markdown": [
       "\n",
       "A matrix: 14 × 1 of type dbl\n",
       "\n",
       "| error |  5.086089e+00 |\n",
       "| reached.threshold |  9.468565e-03 |\n",
       "| steps |  1.861000e+03 |\n",
       "| Intercept.to.1layhid1 |  1.528203e+00 |\n",
       "| cement.to.1layhid1 | -3.924881e+00 |\n",
       "| slag.to.1layhid1 | -2.176521e+00 |\n",
       "| ash.to.1layhid1 | -6.338508e-01 |\n",
       "| water.to.1layhid1 |  2.046894e+00 |\n",
       "| superplastic.to.1layhid1 | -1.245751e+00 |\n",
       "| coarseagg.to.1layhid1 |  1.560701e-01 |\n",
       "| fineagg.to.1layhid1 |  2.972799e-01 |\n",
       "| age.to.1layhid1 | -1.069231e+01 |\n",
       "| Intercept.to.strength |  6.744125e-01 |\n",
       "| 1layhid1.to.strength | -7.070840e-01 |\n",
       "\n"
      ],
      "text/plain": [
       "                         [,1]         \n",
       "error                     5.086089e+00\n",
       "reached.threshold         9.468565e-03\n",
       "steps                     1.861000e+03\n",
       "Intercept.to.1layhid1     1.528203e+00\n",
       "cement.to.1layhid1       -3.924881e+00\n",
       "slag.to.1layhid1         -2.176521e+00\n",
       "ash.to.1layhid1          -6.338508e-01\n",
       "water.to.1layhid1         2.046894e+00\n",
       "superplastic.to.1layhid1 -1.245751e+00\n",
       "coarseagg.to.1layhid1     1.560701e-01\n",
       "fineagg.to.1layhid1       2.972799e-01\n",
       "age.to.1layhid1          -1.069231e+01\n",
       "Intercept.to.strength     6.744125e-01\n",
       "1layhid1.to.strength     -7.070840e-01"
      ]
     },
     "metadata": {},
     "output_type": "display_data"
    },
    {
     "data": {
      "image/png": "[encoded data removed]",
      "text/plain": [
       "plot without title"
      ]
     },
     "metadata": {
      "image/png": {
       "height": 420,
       "width": 420
      }
     },
     "output_type": "display_data"
    }
   ],
   "source": [
    "concrete_model2 <- neuralnet(strength ~ cement + slag + ash + water + \n",
    "                            superplastic + coarseagg + fineagg + age, data = concrete_train, \n",
    "                            hidden = 5)\n",
    "plot.nnet(concrete_model2)\n",
    "concrete_model$result.matrix"
   ]
  },
  {
   "cell_type": "code",
   "execution_count": 34,
   "metadata": {},
   "outputs": [
    {
     "data": {
      "text/html": [
       "<table>\n",
       "<caption>A matrix: 1 × 1 of type dbl</caption>\n",
       "<tbody>\n",
       "\t<tr><td>0.9256396</td></tr>\n",
       "</tbody>\n",
       "</table>\n"
      ],
      "text/latex": [
       "A matrix: 1 × 1 of type dbl\n",
       "\\begin{tabular}{l}\n",
       "\t 0.9256396\\\\\n",
       "\\end{tabular}\n"
      ],
      "text/markdown": [
       "\n",
       "A matrix: 1 × 1 of type dbl\n",
       "\n",
       "| 0.9256396 |\n",
       "\n"
      ],
      "text/plain": [
       "     [,1]     \n",
       "[1,] 0.9256396"
      ]
     },
     "metadata": {},
     "output_type": "display_data"
    }
   ],
   "source": [
    "model_results2 <- compute(concrete_model2, concrete_test[1:8])\n",
    "predicted_strength2 <- model_results2$net.result\n",
    "cor(predicted_strength2, concrete_test$strength)"
   ]
  },
  {
   "cell_type": "markdown",
   "metadata": {},
   "source": [
    "- A considerable improvement\n",
    "- Yet, there might be room for improvement by \n",
    "    - including additional hidden layers\n",
    "    - changing the activation function (e.g. from a sigmoid to a SmoothReLU)"
   ]
  },
  {
   "cell_type": "code",
   "execution_count": 35,
   "metadata": {},
   "outputs": [
    {
     "ename": "ERROR",
     "evalue": "Error in eval(expr, envir, enclos): Objekt 'concrete_model_3' nicht gefunden\n",
     "output_type": "error",
     "traceback": [
      "Error in eval(expr, envir, enclos): Objekt 'concrete_model_3' nicht gefunden\nTraceback:\n"
     ]
    },
    {
     "data": {
      "image/png": "[encoded data removed]",
      "text/plain": [
       "plot without title"
      ]
     },
     "metadata": {
      "image/png": {
       "height": 420,
       "width": 420
      }
     },
     "output_type": "display_data"
    }
   ],
   "source": [
    "softplus <- function(x){\n",
    "    log(1+exp(x))\n",
    "}\n",
    "set.seed(12345)\n",
    "concrete_model3 <- neuralnet(strength ~ cement + slag + ash + water + \n",
    "                            superplastic + coarseagg + fineagg + age, data = concrete_train, \n",
    "                            hidden = c(5,5), act.fct = softplus)\n",
    "plot.nnet(concrete_model3)\n",
    "concrete_model3$results.matrix"
   ]
  },
  {
   "cell_type": "code",
   "execution_count": 38,
   "metadata": {},
   "outputs": [
    {
     "data": {
      "text/html": [
       "<table>\n",
       "<caption>A matrix: 1 × 1 of type dbl</caption>\n",
       "<tbody>\n",
       "\t<tr><td>0.9348395</td></tr>\n",
       "</tbody>\n",
       "</table>\n"
      ],
      "text/latex": [
       "A matrix: 1 × 1 of type dbl\n",
       "\\begin{tabular}{l}\n",
       "\t 0.9348395\\\\\n",
       "\\end{tabular}\n"
      ],
      "text/markdown": [
       "\n",
       "A matrix: 1 × 1 of type dbl\n",
       "\n",
       "| 0.9348395 |\n",
       "\n"
      ],
      "text/plain": [
       "     [,1]     \n",
       "[1,] 0.9348395"
      ]
     },
     "metadata": {},
     "output_type": "display_data"
    }
   ],
   "source": [
    "model_results3 <- compute(concrete_model3, concrete_test[1:8])\n",
    "predicted_strength3 <- model_results3$net.result\n",
    "cor(predicted_strength3, concrete_test$strength)"
   ]
  },
  {
   "cell_type": "markdown",
   "metadata": {},
   "source": [
    "- An improvement of about 1% accuracy"
   ]
  },
  {
   "cell_type": "code",
   "execution_count": 40,
   "metadata": {},
   "outputs": [
    {
     "data": {
      "text/html": [
       "<table>\n",
       "<caption>A data.frame: 6 × 4</caption>\n",
       "<thead>\n",
       "\t<tr><th></th><th scope=col>actual</th><th scope=col>pred</th><th scope=col>pred_new</th><th scope=col>error</th></tr>\n",
       "\t<tr><th></th><th scope=col>&lt;dbl&gt;</th><th scope=col>&lt;dbl&gt;</th><th scope=col>&lt;dbl&gt;</th><th scope=col>&lt;dbl&gt;</th></tr>\n",
       "</thead>\n",
       "<tbody>\n",
       "\t<tr><th scope=row>774</th><td>30.14</td><td>0.2860639</td><td>23.62888</td><td>-6.5111211</td></tr>\n",
       "\t<tr><th scope=row>775</th><td>44.40</td><td>0.4777305</td><td>39.46054</td><td>-4.9394636</td></tr>\n",
       "\t<tr><th scope=row>776</th><td>24.50</td><td>0.2840964</td><td>23.46636</td><td>-1.0336353</td></tr>\n",
       "\t<tr><th scope=row>777</th><td>71.62</td><td>0.9446964</td><td>78.03192</td><td> 6.4119240</td></tr>\n",
       "\t<tr><th scope=row>778</th><td>36.30</td><td>0.4361824</td><td>36.02867</td><td>-0.2713317</td></tr>\n",
       "\t<tr><th scope=row>779</th><td>38.46</td><td>0.5072858</td><td>41.90180</td><td> 3.4418038</td></tr>\n",
       "</tbody>\n",
       "</table>\n"
      ],
      "text/latex": [
       "A data.frame: 6 × 4\n",
       "\\begin{tabular}{r|llll}\n",
       "  & actual & pred & pred\\_new & error\\\\\n",
       "  & <dbl> & <dbl> & <dbl> & <dbl>\\\\\n",
       "\\hline\n",
       "\t774 & 30.14 & 0.2860639 & 23.62888 & -6.5111211\\\\\n",
       "\t775 & 44.40 & 0.4777305 & 39.46054 & -4.9394636\\\\\n",
       "\t776 & 24.50 & 0.2840964 & 23.46636 & -1.0336353\\\\\n",
       "\t777 & 71.62 & 0.9446964 & 78.03192 &  6.4119240\\\\\n",
       "\t778 & 36.30 & 0.4361824 & 36.02867 & -0.2713317\\\\\n",
       "\t779 & 38.46 & 0.5072858 & 41.90180 &  3.4418038\\\\\n",
       "\\end{tabular}\n"
      ],
      "text/markdown": [
       "\n",
       "A data.frame: 6 × 4\n",
       "\n",
       "| <!--/--> | actual &lt;dbl&gt; | pred &lt;dbl&gt; | pred_new &lt;dbl&gt; | error &lt;dbl&gt; |\n",
       "|---|---|---|---|---|\n",
       "| 774 | 30.14 | 0.2860639 | 23.62888 | -6.5111211 |\n",
       "| 775 | 44.40 | 0.4777305 | 39.46054 | -4.9394636 |\n",
       "| 776 | 24.50 | 0.2840964 | 23.46636 | -1.0336353 |\n",
       "| 777 | 71.62 | 0.9446964 | 78.03192 |  6.4119240 |\n",
       "| 778 | 36.30 | 0.4361824 | 36.02867 | -0.2713317 |\n",
       "| 779 | 38.46 | 0.5072858 | 41.90180 |  3.4418038 |\n",
       "\n"
      ],
      "text/plain": [
       "    actual pred      pred_new error     \n",
       "774 30.14  0.2860639 23.62888 -6.5111211\n",
       "775 44.40  0.4777305 39.46054 -4.9394636\n",
       "776 24.50  0.2840964 23.46636 -1.0336353\n",
       "777 71.62  0.9446964 78.03192  6.4119240\n",
       "778 36.30  0.4361824 36.02867 -0.2713317\n",
       "779 38.46  0.5072858 41.90180  3.4418038"
      ]
     },
     "metadata": {},
     "output_type": "display_data"
    }
   ],
   "source": [
    "strengths <- data.frame(actual = concrete$strength[774:1030],\n",
    "                       pred = predicted_strength3)\n",
    "unnormalize <- function(x) {\n",
    "    return((x * (max(concrete$strength)) - min(concrete$strength)) + min(concrete$strength))\n",
    "}\n",
    "\n",
    "strengths$pred_new <- unnormalize(strengths$pred)\n",
    "strengths$error <- strengths$pred_new - strengths$actual\n",
    "\n",
    "head(strengths)"
   ]
  }
 ],
 "metadata": {
  "kernelspec": {
   "display_name": "R",
   "language": "R",
   "name": "ir"
  },
  "language_info": {
   "codemirror_mode": "r",
   "file_extension": ".r",
   "mimetype": "text/x-r-source",
   "name": "R",
   "pygments_lexer": "r",
   "version": "3.6.1"
  }
 },
 "nbformat": 4,
 "nbformat_minor": 2
}
