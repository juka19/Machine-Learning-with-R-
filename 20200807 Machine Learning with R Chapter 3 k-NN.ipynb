{
 "cells": [
  {
   "cell_type": "markdown",
   "metadata": {},
   "source": [
    "# Breast Cancer Wisconsin dataset: k-NN algorithm\n",
    "\n",
    "The following exercise is taken from <b> Machine Learning with R</b> by <b> Brett Lantz </b> (Third Edition)\n",
    "\n",
    "The dataset used in the exercise is the <b>Breast Cancer Wisconsin (Diagnostic)</b> dataset and originates from <b> UCI Machine Learning Repository</b>. The dataset here is downloaded from the textbook's github page."
   ]
  },
  {
   "cell_type": "markdown",
   "metadata": {},
   "source": [
    "## Step 1: Collecting the dataset"
   ]
  },
  {
   "cell_type": "code",
   "execution_count": 3,
   "metadata": {},
   "outputs": [],
   "source": [
    "wbcd <- read.csv(\"https://raw.githubusercontent.com/PacktPublishing/Machine-Learning-with-R-Third-Edition/master/Chapter03/wisc_bc_data.csv\", \n",
    "                stringsAsFactors = FALSE)"
   ]
  },
  {
   "cell_type": "markdown",
   "metadata": {},
   "source": [
    "## Step 2: Exploring and preparing the data"
   ]
  },
  {
   "cell_type": "code",
   "execution_count": 2,
   "metadata": {},
   "outputs": [
    {
     "name": "stdout",
     "output_type": "stream",
     "text": [
      "'data.frame':\t569 obs. of  32 variables:\n",
      " $ id               : int  87139402 8910251 905520 868871 9012568 906539 925291 87880 862989 89827 ...\n",
      " $ diagnosis        : chr  \"B\" \"B\" \"B\" \"B\" ...\n",
      " $ radius_mean      : num  12.3 10.6 11 11.3 15.2 ...\n",
      " $ texture_mean     : num  12.4 18.9 16.8 13.4 13.2 ...\n",
      " $ perimeter_mean   : num  78.8 69.3 70.9 73 97.7 ...\n",
      " $ area_mean        : num  464 346 373 385 712 ...\n",
      " $ smoothness_mean  : num  0.1028 0.0969 0.1077 0.1164 0.0796 ...\n",
      " $ compactness_mean : num  0.0698 0.1147 0.078 0.1136 0.0693 ...\n",
      " $ concavity_mean   : num  0.0399 0.0639 0.0305 0.0464 0.0339 ...\n",
      " $ points_mean      : num  0.037 0.0264 0.0248 0.048 0.0266 ...\n",
      " $ symmetry_mean    : num  0.196 0.192 0.171 0.177 0.172 ...\n",
      " $ dimension_mean   : num  0.0595 0.0649 0.0634 0.0607 0.0554 ...\n",
      " $ radius_se        : num  0.236 0.451 0.197 0.338 0.178 ...\n",
      " $ texture_se       : num  0.666 1.197 1.387 1.343 0.412 ...\n",
      " $ perimeter_se     : num  1.67 3.43 1.34 1.85 1.34 ...\n",
      " $ area_se          : num  17.4 27.1 13.5 26.3 17.7 ...\n",
      " $ smoothness_se    : num  0.00805 0.00747 0.00516 0.01127 0.00501 ...\n",
      " $ compactness_se   : num  0.0118 0.03581 0.00936 0.03498 0.01485 ...\n",
      " $ concavity_se     : num  0.0168 0.0335 0.0106 0.0219 0.0155 ...\n",
      " $ points_se        : num  0.01241 0.01365 0.00748 0.01965 0.00915 ...\n",
      " $ symmetry_se      : num  0.0192 0.035 0.0172 0.0158 0.0165 ...\n",
      " $ dimension_se     : num  0.00225 0.00332 0.0022 0.00344 0.00177 ...\n",
      " $ radius_worst     : num  13.5 11.9 12.4 11.9 16.2 ...\n",
      " $ texture_worst    : num  15.6 22.9 26.4 15.8 15.7 ...\n",
      " $ perimeter_worst  : num  87 78.3 79.9 76.5 104.5 ...\n",
      " $ area_worst       : num  549 425 471 434 819 ...\n",
      " $ smoothness_worst : num  0.139 0.121 0.137 0.137 0.113 ...\n",
      " $ compactness_worst: num  0.127 0.252 0.148 0.182 0.174 ...\n",
      " $ concavity_worst  : num  0.1242 0.1916 0.1067 0.0867 0.1362 ...\n",
      " $ points_worst     : num  0.0939 0.0793 0.0743 0.0861 0.0818 ...\n",
      " $ symmetry_worst   : num  0.283 0.294 0.3 0.21 0.249 ...\n",
      " $ dimension_worst  : num  0.0677 0.0759 0.0788 0.0678 0.0677 ...\n"
     ]
    }
   ],
   "source": [
    "str(wbcd) "
   ]
  },
  {
   "cell_type": "code",
   "execution_count": 4,
   "metadata": {},
   "outputs": [
    {
     "data": {
      "text/plain": [
       "\n",
       "  B   M \n",
       "357 212 "
      ]
     },
     "metadata": {},
     "output_type": "display_data"
    }
   ],
   "source": [
    "# there is an ID column. ID columns can lead to erroneous findings, as they predict each example correctly \n",
    "# Hence, the column must be excluded\n",
    "wbcd <- wbcd[-1]\n",
    "\n",
    "# column 'diagnosis' is of particular interest!\n",
    "table(wbcd$diagnosis)"
   ]
  },
  {
   "cell_type": "code",
   "execution_count": 5,
   "metadata": {},
   "outputs": [],
   "source": [
    "# The diagnosis variable was read in as a character (because of stringsAsFactors = True in the read.csv call)\n",
    "# however, it is a factor. Also, the labels 'M' & 'B' are not particularly informative\n",
    "wbcd$diagnosis <- factor(wbcd$diagnosis, levels =c(\"B\", \"M\"), \n",
    "                         labels = c(\"Benign\", \"Malignant\"))"
   ]
  },
  {
   "cell_type": "code",
   "execution_count": 6,
   "metadata": {},
   "outputs": [
    {
     "data": {
      "text/plain": [
       "\n",
       "   Benign Malignant \n",
       "     62.7      37.3 "
      ]
     },
     "metadata": {},
     "output_type": "display_data"
    }
   ],
   "source": [
    "# Checking the prop table\n",
    "\n",
    "round(prop.table(table(wbcd$diagnosis)) * 100, digits = 1)"
   ]
  },
  {
   "cell_type": "code",
   "execution_count": 7,
   "metadata": {},
   "outputs": [
    {
     "data": {
      "text/plain": [
       "     diagnosis    radius_mean      texture_mean   perimeter_mean  \n",
       " Benign   :357   Min.   : 6.981   Min.   : 9.71   Min.   : 43.79  \n",
       " Malignant:212   1st Qu.:11.700   1st Qu.:16.17   1st Qu.: 75.17  \n",
       "                 Median :13.370   Median :18.84   Median : 86.24  \n",
       "                 Mean   :14.127   Mean   :19.29   Mean   : 91.97  \n",
       "                 3rd Qu.:15.780   3rd Qu.:21.80   3rd Qu.:104.10  \n",
       "                 Max.   :28.110   Max.   :39.28   Max.   :188.50  \n",
       "   area_mean      smoothness_mean   compactness_mean  concavity_mean   \n",
       " Min.   : 143.5   Min.   :0.05263   Min.   :0.01938   Min.   :0.00000  \n",
       " 1st Qu.: 420.3   1st Qu.:0.08637   1st Qu.:0.06492   1st Qu.:0.02956  \n",
       " Median : 551.1   Median :0.09587   Median :0.09263   Median :0.06154  \n",
       " Mean   : 654.9   Mean   :0.09636   Mean   :0.10434   Mean   :0.08880  \n",
       " 3rd Qu.: 782.7   3rd Qu.:0.10530   3rd Qu.:0.13040   3rd Qu.:0.13070  \n",
       " Max.   :2501.0   Max.   :0.16340   Max.   :0.34540   Max.   :0.42680  \n",
       "  points_mean      symmetry_mean    dimension_mean      radius_se     \n",
       " Min.   :0.00000   Min.   :0.1060   Min.   :0.04996   Min.   :0.1115  \n",
       " 1st Qu.:0.02031   1st Qu.:0.1619   1st Qu.:0.05770   1st Qu.:0.2324  \n",
       " Median :0.03350   Median :0.1792   Median :0.06154   Median :0.3242  \n",
       " Mean   :0.04892   Mean   :0.1812   Mean   :0.06280   Mean   :0.4052  \n",
       " 3rd Qu.:0.07400   3rd Qu.:0.1957   3rd Qu.:0.06612   3rd Qu.:0.4789  \n",
       " Max.   :0.20120   Max.   :0.3040   Max.   :0.09744   Max.   :2.8730  \n",
       "   texture_se      perimeter_se       area_se        smoothness_se     \n",
       " Min.   :0.3602   Min.   : 0.757   Min.   :  6.802   Min.   :0.001713  \n",
       " 1st Qu.:0.8339   1st Qu.: 1.606   1st Qu.: 17.850   1st Qu.:0.005169  \n",
       " Median :1.1080   Median : 2.287   Median : 24.530   Median :0.006380  \n",
       " Mean   :1.2169   Mean   : 2.866   Mean   : 40.337   Mean   :0.007041  \n",
       " 3rd Qu.:1.4740   3rd Qu.: 3.357   3rd Qu.: 45.190   3rd Qu.:0.008146  \n",
       " Max.   :4.8850   Max.   :21.980   Max.   :542.200   Max.   :0.031130  \n",
       " compactness_se      concavity_se       points_se         symmetry_se      \n",
       " Min.   :0.002252   Min.   :0.00000   Min.   :0.000000   Min.   :0.007882  \n",
       " 1st Qu.:0.013080   1st Qu.:0.01509   1st Qu.:0.007638   1st Qu.:0.015160  \n",
       " Median :0.020450   Median :0.02589   Median :0.010930   Median :0.018730  \n",
       " Mean   :0.025478   Mean   :0.03189   Mean   :0.011796   Mean   :0.020542  \n",
       " 3rd Qu.:0.032450   3rd Qu.:0.04205   3rd Qu.:0.014710   3rd Qu.:0.023480  \n",
       " Max.   :0.135400   Max.   :0.39600   Max.   :0.052790   Max.   :0.078950  \n",
       "  dimension_se        radius_worst   texture_worst   perimeter_worst \n",
       " Min.   :0.0008948   Min.   : 7.93   Min.   :12.02   Min.   : 50.41  \n",
       " 1st Qu.:0.0022480   1st Qu.:13.01   1st Qu.:21.08   1st Qu.: 84.11  \n",
       " Median :0.0031870   Median :14.97   Median :25.41   Median : 97.66  \n",
       " Mean   :0.0037949   Mean   :16.27   Mean   :25.68   Mean   :107.26  \n",
       " 3rd Qu.:0.0045580   3rd Qu.:18.79   3rd Qu.:29.72   3rd Qu.:125.40  \n",
       " Max.   :0.0298400   Max.   :36.04   Max.   :49.54   Max.   :251.20  \n",
       "   area_worst     smoothness_worst  compactness_worst concavity_worst \n",
       " Min.   : 185.2   Min.   :0.07117   Min.   :0.02729   Min.   :0.0000  \n",
       " 1st Qu.: 515.3   1st Qu.:0.11660   1st Qu.:0.14720   1st Qu.:0.1145  \n",
       " Median : 686.5   Median :0.13130   Median :0.21190   Median :0.2267  \n",
       " Mean   : 880.6   Mean   :0.13237   Mean   :0.25427   Mean   :0.2722  \n",
       " 3rd Qu.:1084.0   3rd Qu.:0.14600   3rd Qu.:0.33910   3rd Qu.:0.3829  \n",
       " Max.   :4254.0   Max.   :0.22260   Max.   :1.05800   Max.   :1.2520  \n",
       "  points_worst     symmetry_worst   dimension_worst  \n",
       " Min.   :0.00000   Min.   :0.1565   Min.   :0.05504  \n",
       " 1st Qu.:0.06493   1st Qu.:0.2504   1st Qu.:0.07146  \n",
       " Median :0.09993   Median :0.2822   Median :0.08004  \n",
       " Mean   :0.11461   Mean   :0.2901   Mean   :0.08395  \n",
       " 3rd Qu.:0.16140   3rd Qu.:0.3179   3rd Qu.:0.09208  \n",
       " Max.   :0.29100   Max.   :0.6638   Max.   :0.20750  "
      ]
     },
     "metadata": {},
     "output_type": "display_data"
    }
   ],
   "source": [
    "summary(wbcd)\n",
    "# Checking the measurement scales of the variables"
   ]
  },
  {
   "cell_type": "markdown",
   "metadata": {},
   "source": [
    "### Transformation - normalizing numeric data"
   ]
  },
  {
   "cell_type": "code",
   "execution_count": 8,
   "metadata": {},
   "outputs": [
    {
     "data": {
      "text/plain": [
       "  radius_mean      texture_mean    perimeter_mean     area_mean     \n",
       " Min.   :0.0000   Min.   :0.0000   Min.   :0.0000   Min.   :0.0000  \n",
       " 1st Qu.:0.2233   1st Qu.:0.2185   1st Qu.:0.2168   1st Qu.:0.1174  \n",
       " Median :0.3024   Median :0.3088   Median :0.2933   Median :0.1729  \n",
       " Mean   :0.3382   Mean   :0.3240   Mean   :0.3329   Mean   :0.2169  \n",
       " 3rd Qu.:0.4164   3rd Qu.:0.4089   3rd Qu.:0.4168   3rd Qu.:0.2711  \n",
       " Max.   :1.0000   Max.   :1.0000   Max.   :1.0000   Max.   :1.0000  \n",
       " smoothness_mean  compactness_mean concavity_mean     points_mean    \n",
       " Min.   :0.0000   Min.   :0.0000   Min.   :0.00000   Min.   :0.0000  \n",
       " 1st Qu.:0.3046   1st Qu.:0.1397   1st Qu.:0.06926   1st Qu.:0.1009  \n",
       " Median :0.3904   Median :0.2247   Median :0.14419   Median :0.1665  \n",
       " Mean   :0.3948   Mean   :0.2606   Mean   :0.20806   Mean   :0.2431  \n",
       " 3rd Qu.:0.4755   3rd Qu.:0.3405   3rd Qu.:0.30623   3rd Qu.:0.3678  \n",
       " Max.   :1.0000   Max.   :1.0000   Max.   :1.00000   Max.   :1.0000  \n",
       " symmetry_mean    dimension_mean     radius_se         texture_se    \n",
       " Min.   :0.0000   Min.   :0.0000   Min.   :0.00000   Min.   :0.0000  \n",
       " 1st Qu.:0.2823   1st Qu.:0.1630   1st Qu.:0.04378   1st Qu.:0.1047  \n",
       " Median :0.3697   Median :0.2439   Median :0.07702   Median :0.1653  \n",
       " Mean   :0.3796   Mean   :0.2704   Mean   :0.10635   Mean   :0.1893  \n",
       " 3rd Qu.:0.4530   3rd Qu.:0.3404   3rd Qu.:0.13304   3rd Qu.:0.2462  \n",
       " Max.   :1.0000   Max.   :1.0000   Max.   :1.00000   Max.   :1.0000  \n",
       "  perimeter_se        area_se        smoothness_se    compactness_se   \n",
       " Min.   :0.00000   Min.   :0.00000   Min.   :0.0000   Min.   :0.00000  \n",
       " 1st Qu.:0.04000   1st Qu.:0.02064   1st Qu.:0.1175   1st Qu.:0.08132  \n",
       " Median :0.07209   Median :0.03311   Median :0.1586   Median :0.13667  \n",
       " Mean   :0.09938   Mean   :0.06264   Mean   :0.1811   Mean   :0.17444  \n",
       " 3rd Qu.:0.12251   3rd Qu.:0.07170   3rd Qu.:0.2187   3rd Qu.:0.22680  \n",
       " Max.   :1.00000   Max.   :1.00000   Max.   :1.0000   Max.   :1.00000  \n",
       "  concavity_se       points_se       symmetry_se      dimension_se    \n",
       " Min.   :0.00000   Min.   :0.0000   Min.   :0.0000   Min.   :0.00000  \n",
       " 1st Qu.:0.03811   1st Qu.:0.1447   1st Qu.:0.1024   1st Qu.:0.04675  \n",
       " Median :0.06538   Median :0.2070   Median :0.1526   Median :0.07919  \n",
       " Mean   :0.08054   Mean   :0.2235   Mean   :0.1781   Mean   :0.10019  \n",
       " 3rd Qu.:0.10619   3rd Qu.:0.2787   3rd Qu.:0.2195   3rd Qu.:0.12656  \n",
       " Max.   :1.00000   Max.   :1.0000   Max.   :1.0000   Max.   :1.00000  \n",
       "  radius_worst    texture_worst    perimeter_worst    area_worst     \n",
       " Min.   :0.0000   Min.   :0.0000   Min.   :0.0000   Min.   :0.00000  \n",
       " 1st Qu.:0.1807   1st Qu.:0.2415   1st Qu.:0.1678   1st Qu.:0.08113  \n",
       " Median :0.2504   Median :0.3569   Median :0.2353   Median :0.12321  \n",
       " Mean   :0.2967   Mean   :0.3640   Mean   :0.2831   Mean   :0.17091  \n",
       " 3rd Qu.:0.3863   3rd Qu.:0.4717   3rd Qu.:0.3735   3rd Qu.:0.22090  \n",
       " Max.   :1.0000   Max.   :1.0000   Max.   :1.0000   Max.   :1.00000  \n",
       " smoothness_worst compactness_worst concavity_worst    points_worst   \n",
       " Min.   :0.0000   Min.   :0.0000    Min.   :0.00000   Min.   :0.0000  \n",
       " 1st Qu.:0.3000   1st Qu.:0.1163    1st Qu.:0.09145   1st Qu.:0.2231  \n",
       " Median :0.3971   Median :0.1791    Median :0.18107   Median :0.3434  \n",
       " Mean   :0.4041   Mean   :0.2202    Mean   :0.21740   Mean   :0.3938  \n",
       " 3rd Qu.:0.4942   3rd Qu.:0.3025    3rd Qu.:0.30583   3rd Qu.:0.5546  \n",
       " Max.   :1.0000   Max.   :1.0000    Max.   :1.00000   Max.   :1.0000  \n",
       " symmetry_worst   dimension_worst \n",
       " Min.   :0.0000   Min.   :0.0000  \n",
       " 1st Qu.:0.1851   1st Qu.:0.1077  \n",
       " Median :0.2478   Median :0.1640  \n",
       " Mean   :0.2633   Mean   :0.1896  \n",
       " 3rd Qu.:0.3182   3rd Qu.:0.2429  \n",
       " Max.   :1.0000   Max.   :1.0000  "
      ]
     },
     "metadata": {},
     "output_type": "display_data"
    }
   ],
   "source": [
    "# The k-NN algorithm is heavily dependant upon the measurement scale of the input features.\n",
    "# since the data has different scales, it must be normalized. Here the features will be min-max normalized\n",
    "\n",
    "normalize <- function(x){\n",
    "    return ((x - min(x)) / (max(x) - min(x)))\n",
    "}\n",
    "\n",
    "wbcd_n <- as.data.frame(lapply(wbcd[2:31], normalize))\n",
    "\n",
    "# Check whether normalization worked correctly\n",
    "summary(wbcd_n)"
   ]
  },
  {
   "cell_type": "markdown",
   "metadata": {},
   "source": [
    "### Data preparation - creating training and test datasets"
   ]
  },
  {
   "cell_type": "code",
   "execution_count": 25,
   "metadata": {},
   "outputs": [],
   "source": [
    "# Dividing the dataset into training and test data. Typically, the data must also be shuffled first. \n",
    "# However, in this case, the data is aready randomly ordered and not arranged chronologically or in groups\n",
    "# the labels will be stored in separate variables\n",
    "\n",
    "wbcd_train <- wbcd_n[1:469, ]\n",
    "wbcd_test <- wbcd_n[470:569, ]\n",
    "\n",
    "wbcd_train_labels <- wbcd[1:469, 1]\n",
    "wbcd_test_labels <- wbcd[470:569, 1]"
   ]
  },
  {
   "cell_type": "markdown",
   "metadata": {},
   "source": [
    "## Step 3: Training a model on the data"
   ]
  },
  {
   "cell_type": "code",
   "execution_count": 26,
   "metadata": {},
   "outputs": [
    {
     "data": {
      "text/html": [
       "21.6564078277077"
      ],
      "text/latex": [
       "21.6564078277077"
      ],
      "text/markdown": [
       "21.6564078277077"
      ],
      "text/plain": [
       "[1] 21.65641"
      ]
     },
     "metadata": {},
     "output_type": "display_data"
    }
   ],
   "source": [
    "# a good first estimate for k is the square root of the training dataset\n",
    "sqrt(dim(wbcd_train)[1])"
   ]
  },
  {
   "cell_type": "code",
   "execution_count": 27,
   "metadata": {},
   "outputs": [],
   "source": [
    "library(\"class\")\n",
    "\n",
    "wbcd_test_pred <- knn(train = wbcd_train, test = wbcd_test,\n",
    "                     cl = wbcd_train_labels, k = 21)"
   ]
  },
  {
   "cell_type": "markdown",
   "metadata": {},
   "source": [
    "## Step 4: Evaluating model performance"
   ]
  },
  {
   "cell_type": "code",
   "execution_count": 28,
   "metadata": {},
   "outputs": [
    {
     "name": "stdout",
     "output_type": "stream",
     "text": [
      "\n",
      " \n",
      "   Cell Contents\n",
      "|-------------------------|\n",
      "|                       N |\n",
      "|           N / Row Total |\n",
      "|           N / Col Total |\n",
      "|         N / Table Total |\n",
      "|-------------------------|\n",
      "\n",
      " \n",
      "Total Observations in Table:  100 \n",
      "\n",
      " \n",
      "                 | wbcd_test_pred \n",
      "wbcd_test_labels |    Benign | Malignant | Row Total | \n",
      "-----------------|-----------|-----------|-----------|\n",
      "          Benign |        61 |         0 |        61 | \n",
      "                 |     1.000 |     0.000 |     0.610 | \n",
      "                 |     0.968 |     0.000 |           | \n",
      "                 |     0.610 |     0.000 |           | \n",
      "-----------------|-----------|-----------|-----------|\n",
      "       Malignant |         2 |        37 |        39 | \n",
      "                 |     0.051 |     0.949 |     0.390 | \n",
      "                 |     0.032 |     1.000 |           | \n",
      "                 |     0.020 |     0.370 |           | \n",
      "-----------------|-----------|-----------|-----------|\n",
      "    Column Total |        63 |        37 |       100 | \n",
      "                 |     0.630 |     0.370 |           | \n",
      "-----------------|-----------|-----------|-----------|\n",
      "\n",
      " \n"
     ]
    }
   ],
   "source": [
    "# Cross tabulation comparing predicted adn actual label vectors\n",
    "\n",
    "library(\"gmodels\")\n",
    "CrossTable(x = wbcd_test_labels, y = wbcd_test_pred, prop.chisq = F)"
   ]
  },
  {
   "cell_type": "markdown",
   "metadata": {},
   "source": [
    "- The top-left cell indicates the true negative results. All 61 of 100 values were identified correctly.\n",
    "\n",
    "- The bottom-right cell indicates the true positive results. Of the 39 malignant 37 were identified correctly.\n",
    "\n",
    "- The lower-left cell are false negative results. Here, the k-NN prediction erroneously classified 2 benign tumors as malignant.\n",
    "\n",
    "- In total, the alogirthm has a 98% accuracy."
   ]
  },
  {
   "cell_type": "markdown",
   "metadata": {},
   "source": [
    "## Step 5: Improving model performance"
   ]
  },
  {
   "cell_type": "markdown",
   "metadata": {},
   "source": [
    "### Transformation - z-score standardization"
   ]
  },
  {
   "cell_type": "code",
   "execution_count": 21,
   "metadata": {},
   "outputs": [
    {
     "data": {
      "text/plain": [
       "  radius_mean       texture_mean     perimeter_mean      area_mean      \n",
       " Min.   :-2.0279   Min.   :-2.2273   Min.   :-1.9828   Min.   :-1.4532  \n",
       " 1st Qu.:-0.6888   1st Qu.:-0.7253   1st Qu.:-0.6913   1st Qu.:-0.6666  \n",
       " Median :-0.2149   Median :-0.1045   Median :-0.2358   Median :-0.2949  \n",
       " Mean   : 0.0000   Mean   : 0.0000   Mean   : 0.0000   Mean   : 0.0000  \n",
       " 3rd Qu.: 0.4690   3rd Qu.: 0.5837   3rd Qu.: 0.4992   3rd Qu.: 0.3632  \n",
       " Max.   : 3.9678   Max.   : 4.6478   Max.   : 3.9726   Max.   : 5.2459  \n",
       " smoothness_mean    compactness_mean  concavity_mean     points_mean     \n",
       " Min.   :-3.10935   Min.   :-1.6087   Min.   :-1.1139   Min.   :-1.2607  \n",
       " 1st Qu.:-0.71034   1st Qu.:-0.7464   1st Qu.:-0.7431   1st Qu.:-0.7373  \n",
       " Median :-0.03486   Median :-0.2217   Median :-0.3419   Median :-0.3974  \n",
       " Mean   : 0.00000   Mean   : 0.0000   Mean   : 0.0000   Mean   : 0.0000  \n",
       " 3rd Qu.: 0.63564   3rd Qu.: 0.4934   3rd Qu.: 0.5256   3rd Qu.: 0.6464  \n",
       " Max.   : 4.76672   Max.   : 4.5644   Max.   : 4.2399   Max.   : 3.9245  \n",
       " symmetry_mean      dimension_mean      radius_se         texture_se     \n",
       " Min.   :-2.74171   Min.   :-1.8183   Min.   :-1.0590   Min.   :-1.5529  \n",
       " 1st Qu.:-0.70262   1st Qu.:-0.7220   1st Qu.:-0.6230   1st Qu.:-0.6942  \n",
       " Median :-0.07156   Median :-0.1781   Median :-0.2920   Median :-0.1973  \n",
       " Mean   : 0.00000   Mean   : 0.0000   Mean   : 0.0000   Mean   : 0.0000  \n",
       " 3rd Qu.: 0.53031   3rd Qu.: 0.4706   3rd Qu.: 0.2659   3rd Qu.: 0.4661  \n",
       " Max.   : 4.48081   Max.   : 4.9066   Max.   : 8.8991   Max.   : 6.6494  \n",
       "  perimeter_se        area_se        smoothness_se     compactness_se   \n",
       " Min.   :-1.0431   Min.   :-0.7372   Min.   :-1.7745   Min.   :-1.2970  \n",
       " 1st Qu.:-0.6232   1st Qu.:-0.4943   1st Qu.:-0.6235   1st Qu.:-0.6923  \n",
       " Median :-0.2864   Median :-0.3475   Median :-0.2201   Median :-0.2808  \n",
       " Mean   : 0.0000   Mean   : 0.0000   Mean   : 0.0000   Mean   : 0.0000  \n",
       " 3rd Qu.: 0.2428   3rd Qu.: 0.1067   3rd Qu.: 0.3680   3rd Qu.: 0.3893  \n",
       " Max.   : 9.4537   Max.   :11.0321   Max.   : 8.0229   Max.   : 6.1381  \n",
       "  concavity_se       points_se        symmetry_se       dimension_se    \n",
       " Min.   :-1.0566   Min.   :-1.9118   Min.   :-1.5315   Min.   :-1.0960  \n",
       " 1st Qu.:-0.5567   1st Qu.:-0.6739   1st Qu.:-0.6511   1st Qu.:-0.5846  \n",
       " Median :-0.1989   Median :-0.1404   Median :-0.2192   Median :-0.2297  \n",
       " Mean   : 0.0000   Mean   : 0.0000   Mean   : 0.0000   Mean   : 0.0000  \n",
       " 3rd Qu.: 0.3365   3rd Qu.: 0.4722   3rd Qu.: 0.3554   3rd Qu.: 0.2884  \n",
       " Max.   :12.0621   Max.   : 6.6438   Max.   : 7.0657   Max.   : 9.8429  \n",
       "  radius_worst     texture_worst      perimeter_worst     area_worst     \n",
       " Min.   :-1.7254   Min.   :-2.22204   Min.   :-1.6919   Min.   :-1.2213  \n",
       " 1st Qu.:-0.6743   1st Qu.:-0.74797   1st Qu.:-0.6890   1st Qu.:-0.6416  \n",
       " Median :-0.2688   Median :-0.04348   Median :-0.2857   Median :-0.3409  \n",
       " Mean   : 0.0000   Mean   : 0.00000   Mean   : 0.0000   Mean   : 0.0000  \n",
       " 3rd Qu.: 0.5216   3rd Qu.: 0.65776   3rd Qu.: 0.5398   3rd Qu.: 0.3573  \n",
       " Max.   : 4.0906   Max.   : 3.88249   Max.   : 4.2836   Max.   : 5.9250  \n",
       " smoothness_worst  compactness_worst concavity_worst    points_worst    \n",
       " Min.   :-2.6803   Min.   :-1.4426   Min.   :-1.3047   Min.   :-1.7435  \n",
       " 1st Qu.:-0.6906   1st Qu.:-0.6805   1st Qu.:-0.7558   1st Qu.:-0.7557  \n",
       " Median :-0.0468   Median :-0.2693   Median :-0.2180   Median :-0.2233  \n",
       " Mean   : 0.0000   Mean   : 0.0000   Mean   : 0.0000   Mean   : 0.0000  \n",
       " 3rd Qu.: 0.5970   3rd Qu.: 0.5392   3rd Qu.: 0.5307   3rd Qu.: 0.7119  \n",
       " Max.   : 3.9519   Max.   : 5.1084   Max.   : 4.6965   Max.   : 2.6835  \n",
       " symmetry_worst    dimension_worst  \n",
       " Min.   :-2.1591   Min.   :-1.6004  \n",
       " 1st Qu.:-0.6413   1st Qu.:-0.6913  \n",
       " Median :-0.1273   Median :-0.2163  \n",
       " Mean   : 0.0000   Mean   : 0.0000  \n",
       " 3rd Qu.: 0.4497   3rd Qu.: 0.4504  \n",
       " Max.   : 6.0407   Max.   : 6.8408  "
      ]
     },
     "metadata": {},
     "output_type": "display_data"
    }
   ],
   "source": [
    "# The min-max normalization compresses outliers toward the center.\n",
    "# There might be reason to weight outliers more heavily (e.g. uncontrollably growing tumors)\n",
    "wbcd_z <- as.data.frame(scale(wbcd[-1]))\n",
    "\n",
    "# Check whether transformation occured correctly (mean must always be zero):\n",
    "summary(wbcd_z)"
   ]
  },
  {
   "cell_type": "code",
   "execution_count": 31,
   "metadata": {},
   "outputs": [],
   "source": [
    "# Same steps as before: Divide into test and train, classify instances with knn(), compare predicted vs. actual labels\n",
    "\n",
    "wbcd_train <- wbcd_z[1:469, ]\n",
    "wbcd_test <- wbcd_z[470:569, ]\n",
    "wbcd_train_labels <- wbcd[1:469, 1]\n",
    "wbcd_test_labels <- wbcd[470:569, 1]"
   ]
  },
  {
   "cell_type": "code",
   "execution_count": 32,
   "metadata": {},
   "outputs": [
    {
     "name": "stdout",
     "output_type": "stream",
     "text": [
      "\n",
      " \n",
      "   Cell Contents\n",
      "|-------------------------|\n",
      "|                       N |\n",
      "|           N / Row Total |\n",
      "|           N / Col Total |\n",
      "|         N / Table Total |\n",
      "|-------------------------|\n",
      "\n",
      " \n",
      "Total Observations in Table:  100 \n",
      "\n",
      " \n",
      "                 | wbcd_test_pred \n",
      "wbcd_test_labels |    Benign | Malignant | Row Total | \n",
      "-----------------|-----------|-----------|-----------|\n",
      "          Benign |        61 |         0 |        61 | \n",
      "                 |     1.000 |     0.000 |     0.610 | \n",
      "                 |     0.924 |     0.000 |           | \n",
      "                 |     0.610 |     0.000 |           | \n",
      "-----------------|-----------|-----------|-----------|\n",
      "       Malignant |         5 |        34 |        39 | \n",
      "                 |     0.128 |     0.872 |     0.390 | \n",
      "                 |     0.076 |     1.000 |           | \n",
      "                 |     0.050 |     0.340 |           | \n",
      "-----------------|-----------|-----------|-----------|\n",
      "    Column Total |        66 |        34 |       100 | \n",
      "                 |     0.660 |     0.340 |           | \n",
      "-----------------|-----------|-----------|-----------|\n",
      "\n",
      " \n"
     ]
    }
   ],
   "source": [
    "wbcd_test_pred <- knn(train = wbcd_train, test = wbcd_test,\n",
    "                     cl = wbcd_train_labels, k = 21)\n",
    "CrossTable(x = wbcd_test_labels, y = wbcd_test_pred, prop.chisq = F)"
   ]
  },
  {
   "cell_type": "markdown",
   "metadata": {},
   "source": [
    "- There is no improvement in accuray. In fact, the z-score standardization slightly worsened accuracy from 98% to 95%\n",
    "- False negatives even increased!\n",
    "- Hence, the min-max normalization is better suited in this case"
   ]
  }
 ],
 "metadata": {
  "kernelspec": {
   "display_name": "R",
   "language": "R",
   "name": "ir"
  },
  "language_info": {
   "codemirror_mode": "r",
   "file_extension": ".r",
   "mimetype": "text/x-r-source",
   "name": "R",
   "pygments_lexer": "r",
   "version": "3.6.1"
  }
 },
 "nbformat": 4,
 "nbformat_minor": 2
}
