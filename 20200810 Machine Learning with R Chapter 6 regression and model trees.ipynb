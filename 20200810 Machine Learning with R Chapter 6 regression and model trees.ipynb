{
 "cells": [
  {
   "cell_type": "markdown",
   "metadata": {},
   "source": [
    "# Portoguese wine dataset: CART and Cubist algorithms\n",
    "The following exercise is taken from <b> Machine Learning with R</b> by <b> Brett Lantz </b> (Third Edition)\n",
    "\n",
    "The dataset used in the exercise is the <b>Portoguese wine</b> dataset. The dataset was orginainally published in a study by <b>Cortez, Cerdeira, Almeida, Matos & Reis</b> in 2009, comparing different machine learning techniques. The dataset here is downloaded from the textbook's github page. The dataset is also freely available at <b>UCI Machine Learning Repository</b>."
   ]
  },
  {
   "cell_type": "markdown",
   "metadata": {},
   "source": [
    "## Step 1: Collecting data\n"
   ]
  },
  {
   "cell_type": "code",
   "execution_count": 1,
   "metadata": {},
   "outputs": [],
   "source": [
    "wine <- read.csv(\"https://raw.githubusercontent.com/PacktPublishing/Machine-Learning-with-R-Third-Edition/master/Chapter06/whitewines.csv\")"
   ]
  },
  {
   "cell_type": "markdown",
   "metadata": {},
   "source": [
    "## Step 2: Exploring and preparing the data"
   ]
  },
  {
   "cell_type": "code",
   "execution_count": 3,
   "metadata": {},
   "outputs": [
    {
     "name": "stdout",
     "output_type": "stream",
     "text": [
      "'data.frame':\t4898 obs. of  12 variables:\n",
      " $ fixed.acidity       : num  6.7 5.7 5.9 5.3 6.4 7 7.9 6.6 7 6.5 ...\n",
      " $ volatile.acidity    : num  0.62 0.22 0.19 0.47 0.29 0.14 0.12 0.38 0.16 0.37 ...\n",
      " $ citric.acid         : num  0.24 0.2 0.26 0.1 0.21 0.41 0.49 0.28 0.3 0.33 ...\n",
      " $ residual.sugar      : num  1.1 16 7.4 1.3 9.65 0.9 5.2 2.8 2.6 3.9 ...\n",
      " $ chlorides           : num  0.039 0.044 0.034 0.036 0.041 0.037 0.049 0.043 0.043 0.027 ...\n",
      " $ free.sulfur.dioxide : num  6 41 33 11 36 22 33 17 34 40 ...\n",
      " $ total.sulfur.dioxide: num  62 113 123 74 119 95 152 67 90 130 ...\n",
      " $ density             : num  0.993 0.999 0.995 0.991 0.993 ...\n",
      " $ pH                  : num  3.41 3.22 3.49 3.48 2.99 3.25 3.18 3.21 2.88 3.28 ...\n",
      " $ sulphates           : num  0.32 0.46 0.42 0.54 0.34 0.43 0.47 0.47 0.47 0.39 ...\n",
      " $ alcohol             : num  10.4 8.9 10.1 11.2 10.9 ...\n",
      " $ quality             : int  5 6 6 4 6 6 6 6 6 7 ...\n"
     ]
    }
   ],
   "source": [
    "str(wine)"
   ]
  },
  {
   "cell_type": "code",
   "execution_count": 5,
   "metadata": {},
   "outputs": [
    {
     "data": {
      "text/plain": [
       " fixed.acidity    volatile.acidity  citric.acid     residual.sugar  \n",
       " Min.   : 3.800   Min.   :0.0800   Min.   :0.0000   Min.   : 0.600  \n",
       " 1st Qu.: 6.300   1st Qu.:0.2100   1st Qu.:0.2700   1st Qu.: 1.700  \n",
       " Median : 6.800   Median :0.2600   Median :0.3200   Median : 5.200  \n",
       " Mean   : 6.855   Mean   :0.2782   Mean   :0.3342   Mean   : 6.391  \n",
       " 3rd Qu.: 7.300   3rd Qu.:0.3200   3rd Qu.:0.3900   3rd Qu.: 9.900  \n",
       " Max.   :14.200   Max.   :1.1000   Max.   :1.6600   Max.   :65.800  \n",
       "   chlorides       free.sulfur.dioxide total.sulfur.dioxide    density      \n",
       " Min.   :0.00900   Min.   :  2.00      Min.   :  9.0        Min.   :0.9871  \n",
       " 1st Qu.:0.03600   1st Qu.: 23.00      1st Qu.:108.0        1st Qu.:0.9917  \n",
       " Median :0.04300   Median : 34.00      Median :134.0        Median :0.9937  \n",
       " Mean   :0.04577   Mean   : 35.31      Mean   :138.4        Mean   :0.9940  \n",
       " 3rd Qu.:0.05000   3rd Qu.: 46.00      3rd Qu.:167.0        3rd Qu.:0.9961  \n",
       " Max.   :0.34600   Max.   :289.00      Max.   :440.0        Max.   :1.0390  \n",
       "       pH          sulphates         alcohol         quality     \n",
       " Min.   :2.720   Min.   :0.2200   Min.   : 8.00   Min.   :3.000  \n",
       " 1st Qu.:3.090   1st Qu.:0.4100   1st Qu.: 9.50   1st Qu.:5.000  \n",
       " Median :3.180   Median :0.4700   Median :10.40   Median :6.000  \n",
       " Mean   :3.188   Mean   :0.4898   Mean   :10.51   Mean   :5.878  \n",
       " 3rd Qu.:3.280   3rd Qu.:0.5500   3rd Qu.:11.40   3rd Qu.:6.000  \n",
       " Max.   :3.820   Max.   :1.0800   Max.   :14.20   Max.   :9.000  "
      ]
     },
     "metadata": {},
     "output_type": "display_data"
    }
   ],
   "source": [
    "summary(wine)"
   ]
  },
  {
   "cell_type": "markdown",
   "metadata": {},
   "source": [
    "- One of the advantages of trees is that they can handle many types of data without preprocessing\n",
    "- This means that normalization or standardization are not neccessary\n",
    "- However, evaluating the distribution is required!"
   ]
  },
  {
   "cell_type": "code",
   "execution_count": 4,
   "metadata": {},
   "outputs": [
    {
     "data": {
      "image/png": "[encoded data removed]",
      "text/plain": [
       "Plot with title \"Histogram of wine$quality\""
      ]
     },
     "metadata": {
      "image/png": {
       "height": 420,
       "width": 420
      }
     },
     "output_type": "display_data"
    }
   ],
   "source": [
    "hist(wine$quality)"
   ]
  },
  {
   "cell_type": "code",
   "execution_count": 8,
   "metadata": {},
   "outputs": [],
   "source": [
    "# wine dataset is sorted randomly, therefore no random sampling required, dividing the dataset at roughly 75%\n",
    "wine_train <- wine[1:3750, ]\n",
    "wine_test <- wine[3751:4898, ]"
   ]
  },
  {
   "cell_type": "markdown",
   "metadata": {},
   "source": [
    "## Step 3: Training a model on the data"
   ]
  },
  {
   "cell_type": "code",
   "execution_count": 10,
   "metadata": {},
   "outputs": [
    {
     "name": "stderr",
     "output_type": "stream",
     "text": [
      "Warning message:\n",
      "\"package 'rpart' was built under R version 3.6.3\"\n"
     ]
    },
    {
     "data": {
      "text/plain": [
       "n= 3750 \n",
       "\n",
       "node), split, n, deviance, yval\n",
       "      * denotes terminal node\n",
       "\n",
       " 1) root 3750 2945.53200 5.870933  \n",
       "   2) alcohol< 10.85 2372 1418.86100 5.604975  \n",
       "     4) volatile.acidity>=0.2275 1611  821.30730 5.432030  \n",
       "       8) volatile.acidity>=0.3025 688  278.97670 5.255814 *\n",
       "       9) volatile.acidity< 0.3025 923  505.04230 5.563380 *\n",
       "     5) volatile.acidity< 0.2275 761  447.36400 5.971091 *\n",
       "   3) alcohol>=10.85 1378 1070.08200 6.328737  \n",
       "     6) free.sulfur.dioxide< 10.5 84   95.55952 5.369048 *\n",
       "     7) free.sulfur.dioxide>=10.5 1294  892.13600 6.391036  \n",
       "      14) alcohol< 11.76667 629  430.11130 6.173291  \n",
       "        28) volatile.acidity>=0.465 11   10.72727 4.545455 *\n",
       "        29) volatile.acidity< 0.465 618  389.71680 6.202265 *\n",
       "      15) alcohol>=11.76667 665  403.99400 6.596992 *"
      ]
     },
     "metadata": {},
     "output_type": "display_data"
    }
   ],
   "source": [
    "library(rpart)\n",
    "m.rpart <- rpart(quality ~ ., wine_train)\n",
    "m.rpart"
   ]
  },
  {
   "cell_type": "markdown",
   "metadata": {},
   "source": [
    "- alcohol was used first, hence it is the single most important predictor of quality\n",
    "- nodes with a * are terminal, which means they result in a prediction"
   ]
  },
  {
   "cell_type": "markdown",
   "metadata": {},
   "source": [
    "### Visualizing decision trees"
   ]
  },
  {
   "cell_type": "code",
   "execution_count": 12,
   "metadata": {},
   "outputs": [
    {
     "name": "stderr",
     "output_type": "stream",
     "text": [
      "Warning message:\n",
      "\"package 'rpart.plot' was built under R version 3.6.3\"\n"
     ]
    },
    {
     "data": {
      "image/png": "[encoded data removed]",
      "text/plain": [
       "plot without title"
      ]
     },
     "metadata": {
      "image/png": {
       "height": 420,
       "width": 420
      }
     },
     "output_type": "display_data"
    }
   ],
   "source": [
    "library(rpart.plot)\n",
    "rpart.plot(m.rpart, digits = 3)"
   ]
  },
  {
   "cell_type": "code",
   "execution_count": 13,
   "metadata": {},
   "outputs": [
    {
     "data": {
      "image/png": "[encoded data removed]",
      "text/plain": [
       "plot without title"
      ]
     },
     "metadata": {
      "image/png": {
       "height": 420,
       "width": 420
      }
     },
     "output_type": "display_data"
    }
   ],
   "source": [
    "rpart.plot(m.rpart, digits = 4, fallen.leaves = T, type = 3, extra = 101)"
   ]
  },
  {
   "cell_type": "markdown",
   "metadata": {},
   "source": [
    "## Step 4: Evaluating model performance"
   ]
  },
  {
   "cell_type": "code",
   "execution_count": 17,
   "metadata": {},
   "outputs": [
    {
     "data": {
      "text/plain": [
       "   Min. 1st Qu.  Median    Mean 3rd Qu.    Max. \n",
       "  4.545   5.563   5.971   5.893   6.202   6.597 "
      ]
     },
     "metadata": {},
     "output_type": "display_data"
    },
    {
     "data": {
      "text/plain": [
       "   Min. 1st Qu.  Median    Mean 3rd Qu.    Max. \n",
       "  3.000   5.000   6.000   5.901   6.000   9.000 "
      ]
     },
     "metadata": {},
     "output_type": "display_data"
    },
    {
     "data": {
      "text/html": [
       "0.53695245485698"
      ],
      "text/latex": [
       "0.53695245485698"
      ],
      "text/markdown": [
       "0.53695245485698"
      ],
      "text/plain": [
       "[1] 0.5369525"
      ]
     },
     "metadata": {},
     "output_type": "display_data"
    }
   ],
   "source": [
    "p.rpart <- predict(m.rpart, wine_test)\n",
    "summary(p.rpart)\n",
    "summary(wine_test$quality)\n",
    "\n",
    "# correleation between predicted and actual labels is a good criteria for model performance\n",
    "cor(p.rpart, wine_test$quality)"
   ]
  },
  {
   "cell_type": "markdown",
   "metadata": {},
   "source": [
    "- The model generally performs fairly well on the values between the 1st and the 3rd quartile\n",
    "- however, it does not predict the extreme values\n",
    "- a ~0.5 correlation is not too bad, but it does not really reflect the precision of the predictions"
   ]
  },
  {
   "cell_type": "markdown",
   "metadata": {},
   "source": [
    "### Measuring performance wih the mean absolute error"
   ]
  },
  {
   "cell_type": "code",
   "execution_count": 20,
   "metadata": {},
   "outputs": [
    {
     "data": {
      "text/html": [
       "0.587265173945366"
      ],
      "text/latex": [
       "0.587265173945366"
      ],
      "text/markdown": [
       "0.587265173945366"
      ],
      "text/plain": [
       "[1] 0.5872652"
      ]
     },
     "metadata": {},
     "output_type": "display_data"
    }
   ],
   "source": [
    "# Using mean absoute error to evaluate the performance\n",
    "\n",
    "MAE <- function(actual, predicted) {\n",
    "    mean(abs(actual - predicted))\n",
    "}\n",
    "\n",
    "MAE(wine_test$quality, p.rpart)"
   ]
  },
  {
   "cell_type": "markdown",
   "metadata": {},
   "source": [
    "- On average, the difference between the model's predictions and the actual values was 0.59"
   ]
  },
  {
   "cell_type": "markdown",
   "metadata": {},
   "source": [
    "## Step 5: Improving model performance"
   ]
  },
  {
   "cell_type": "code",
   "execution_count": 25,
   "metadata": {},
   "outputs": [
    {
     "data": {
      "text/plain": [
       "\n",
       "Call:\n",
       "cubist.default(x = wine_train[-12], y = wine_train$quality)\n",
       "\n",
       "Number of samples: 3750 \n",
       "Number of predictors: 11 \n",
       "\n",
       "Number of committees: 1 \n",
       "Number of rules: 25 \n"
      ]
     },
     "metadata": {},
     "output_type": "display_data"
    },
    {
     "data": {
      "text/plain": [
       "\n",
       "Call:\n",
       "cubist.default(x = wine_train[-12], y = wine_train$quality)\n",
       "\n",
       "\n",
       "Cubist [Release 2.07 GPL Edition]  Tue Aug 11 15:03:57 2020\n",
       "---------------------------------\n",
       "\n",
       "    Target attribute `outcome'\n",
       "\n",
       "Read 3750 cases (12 attributes) from undefined.data\n",
       "\n",
       "Model:\n",
       "\n",
       "  Rule 1: [21 cases, mean 5.0, range 4 to 6, est err 0.5]\n",
       "\n",
       "    if\n",
       "\tfree.sulfur.dioxide > 30\n",
       "\ttotal.sulfur.dioxide > 195\n",
       "\ttotal.sulfur.dioxide <= 235\n",
       "\tsulphates > 0.64\n",
       "\talcohol > 9.1\n",
       "    then\n",
       "\toutcome = 573.6 + 0.0478 total.sulfur.dioxide - 573 density\n",
       "\t          - 0.788 alcohol + 0.186 residual.sugar - 4.73 volatile.acidity\n",
       "\n",
       "  Rule 2: [28 cases, mean 5.0, range 4 to 8, est err 0.7]\n",
       "\n",
       "    if\n",
       "\tvolatile.acidity > 0.31\n",
       "\tcitric.acid <= 0.36\n",
       "\tresidual.sugar <= 1.45\n",
       "\ttotal.sulfur.dioxide <= 97\n",
       "\talcohol > 9.1\n",
       "    then\n",
       "\toutcome = 168.2 + 4.75 citric.acid + 0.0123 total.sulfur.dioxide\n",
       "\t          - 170 density + 0.057 residual.sugar - 6.4 chlorides + 0.84 pH\n",
       "\t          + 0.14 fixed.acidity\n",
       "\n",
       "  Rule 3: [171 cases, mean 5.1, range 3 to 6, est err 0.3]\n",
       "\n",
       "    if\n",
       "\tvolatile.acidity > 0.205\n",
       "\tchlorides <= 0.054\n",
       "\tdensity <= 0.99839\n",
       "\talcohol <= 9.1\n",
       "    then\n",
       "\toutcome = 147.4 - 144 density + 0.08 residual.sugar + 0.117 alcohol\n",
       "\t          - 0.87 volatile.acidity - 0.09 pH - 0.01 fixed.acidity\n",
       "\n",
       "  Rule 4: [37 cases, mean 5.3, range 3 to 6, est err 0.5]\n",
       "\n",
       "    if\n",
       "\tfree.sulfur.dioxide > 30\n",
       "\ttotal.sulfur.dioxide > 235\n",
       "\talcohol > 9.1\n",
       "    then\n",
       "\toutcome = 19.5 - 0.013 total.sulfur.dioxide - 2.7 volatile.acidity\n",
       "\t          - 10 density + 0.005 residual.sugar + 0.008 alcohol\n",
       "\n",
       "  Rule 5: [64 cases, mean 5.3, range 5 to 6, est err 0.3]\n",
       "\n",
       "    if\n",
       "\tvolatile.acidity > 0.205\n",
       "\tresidual.sugar > 17.85\n",
       "    then\n",
       "\toutcome = -23.6 + 0.233 alcohol - 5.2 chlorides - 0.75 citric.acid\n",
       "\t          + 28 density - 0.81 volatile.acidity - 0.19 pH\n",
       "\t          - 0.002 residual.sugar\n",
       "\n",
       "  Rule 6: [56 cases, mean 5.3, range 4 to 7, est err 0.6]\n",
       "\n",
       "    if\n",
       "\tfixed.acidity <= 7.1\n",
       "\tvolatile.acidity > 0.205\n",
       "\tchlorides > 0.054\n",
       "\tdensity <= 0.99839\n",
       "\talcohol <= 9.1\n",
       "    then\n",
       "\toutcome = 40.6 + 0.374 alcohol - 1.62 volatile.acidity\n",
       "\t          + 0.026 residual.sugar - 38 density - 0.21 pH\n",
       "\t          - 0.01 fixed.acidity\n",
       "\n",
       "  Rule 7: [337 cases, mean 5.3, range 3 to 7, est err 0.4]\n",
       "\n",
       "    if\n",
       "\tfixed.acidity <= 7.8\n",
       "\tvolatile.acidity > 0.305\n",
       "\tchlorides <= 0.09\n",
       "\tfree.sulfur.dioxide <= 82.5\n",
       "\ttotal.sulfur.dioxide > 130\n",
       "\ttotal.sulfur.dioxide <= 235\n",
       "\tsulphates <= 0.64\n",
       "\talcohol <= 10.4\n",
       "    then\n",
       "\toutcome = -32.1 + 0.233 alcohol - 9.7 chlorides\n",
       "\t          + 0.0038 total.sulfur.dioxide - 0.0081 free.sulfur.dioxide\n",
       "\t          + 35 density + 0.81 volatile.acidity\n",
       "\n",
       "  Rule 8: [30 cases, mean 5.5, range 3 to 7, est err 0.5]\n",
       "\n",
       "    if\n",
       "\tfixed.acidity > 7.1\n",
       "\tvolatile.acidity > 0.205\n",
       "\tchlorides > 0.054\n",
       "\tdensity <= 0.99839\n",
       "\talcohol <= 9.1\n",
       "    then\n",
       "\toutcome = 244 - 1.56 fixed.acidity - 228 density\n",
       "\t          + 0.0252 free.sulfur.dioxide - 7.3 chlorides\n",
       "\t          - 0.19 volatile.acidity + 0.003 residual.sugar\n",
       "\n",
       "  Rule 9: [98 cases, mean 5.5, range 4 to 8, est err 0.5]\n",
       "\n",
       "    if\n",
       "\tvolatile.acidity > 0.155\n",
       "\tchlorides > 0.09\n",
       "\ttotal.sulfur.dioxide <= 235\n",
       "\tsulphates <= 0.64\n",
       "    then\n",
       "\toutcome = 55.9 - 3.85 volatile.acidity - 52 density\n",
       "\t          + 0.023 residual.sugar + 0.092 alcohol + 0.35 pH\n",
       "\t          + 0.05 fixed.acidity + 0.3 sulphates\n",
       "\t          + 0.001 free.sulfur.dioxide\n",
       "\n",
       "  Rule 10: [446 cases, mean 5.6, range 4 to 8, est err 0.5]\n",
       "\n",
       "    if\n",
       "\tfixed.acidity <= 7.8\n",
       "\tvolatile.acidity > 0.155\n",
       "\tvolatile.acidity <= 0.305\n",
       "\tchlorides <= 0.09\n",
       "\tfree.sulfur.dioxide <= 82.5\n",
       "\ttotal.sulfur.dioxide > 130\n",
       "\ttotal.sulfur.dioxide <= 235\n",
       "\tsulphates <= 0.64\n",
       "\talcohol > 9.1\n",
       "\talcohol <= 10.4\n",
       "    then\n",
       "\toutcome = 15.1 + 0.35 alcohol - 3.09 volatile.acidity - 14.7 chlorides\n",
       "\t          + 1.16 sulphates - 0.0022 total.sulfur.dioxide\n",
       "\t          + 0.11 fixed.acidity + 0.45 pH + 0.5 citric.acid - 14 density\n",
       "\t          + 0.006 residual.sugar\n",
       "\n",
       "  Rule 11: [31 cases, mean 5.6, range 3 to 8, est err 0.8]\n",
       "\n",
       "    if\n",
       "\tvolatile.acidity > 0.31\n",
       "\tcitric.acid > 0.36\n",
       "\tfree.sulfur.dioxide <= 30\n",
       "\ttotal.sulfur.dioxide <= 97\n",
       "    then\n",
       "\toutcome = 3.2 + 0.0584 total.sulfur.dioxide + 7.77 volatile.acidity\n",
       "\t          + 0.328 alcohol - 9 density + 0.003 residual.sugar\n",
       "\n",
       "  Rule 12: [20 cases, mean 5.7, range 3 to 8, est err 0.9]\n",
       "\n",
       "    if\n",
       "\tfree.sulfur.dioxide > 82.5\n",
       "\ttotal.sulfur.dioxide <= 235\n",
       "\tsulphates <= 0.64\n",
       "\talcohol > 9.1\n",
       "    then\n",
       "\toutcome = -8.9 + 109.3 chlorides + 0.948 alcohol\n",
       "\n",
       "  Rule 13: [331 cases, mean 5.8, range 4 to 8, est err 0.5]\n",
       "\n",
       "    if\n",
       "\tvolatile.acidity > 0.31\n",
       "\tfree.sulfur.dioxide <= 30\n",
       "\ttotal.sulfur.dioxide > 97\n",
       "\talcohol > 9.1\n",
       "    then\n",
       "\toutcome = 89.8 + 0.0234 free.sulfur.dioxide + 0.324 alcohol\n",
       "\t          + 0.07 residual.sugar - 90 density - 1.47 volatile.acidity\n",
       "\t          + 0.48 pH\n",
       "\n",
       "  Rule 14: [116 cases, mean 5.8, range 3 to 8, est err 0.6]\n",
       "\n",
       "    if\n",
       "\tfixed.acidity > 7.8\n",
       "\tvolatile.acidity > 0.155\n",
       "\tfree.sulfur.dioxide > 30\n",
       "\ttotal.sulfur.dioxide > 130\n",
       "\ttotal.sulfur.dioxide <= 235\n",
       "\tsulphates <= 0.64\n",
       "\talcohol > 9.1\n",
       "    then\n",
       "\toutcome = 6 + 0.346 alcohol - 0.41 fixed.acidity - 1.69 volatile.acidity\n",
       "\t          - 2.9 chlorides + 0.19 sulphates + 0.07 pH\n",
       "\n",
       "  Rule 15: [115 cases, mean 5.8, range 4 to 7, est err 0.5]\n",
       "\n",
       "    if\n",
       "\tvolatile.acidity > 0.205\n",
       "\tresidual.sugar <= 17.85\n",
       "\tdensity > 0.99839\n",
       "\talcohol <= 9.1\n",
       "    then\n",
       "\toutcome = -110.2 + 120 density - 3.46 volatile.acidity - 0.97 pH\n",
       "\t          - 0.022 residual.sugar + 0.088 alcohol - 0.6 citric.acid\n",
       "\t          - 0.01 fixed.acidity\n",
       "\n",
       "  Rule 16: [986 cases, mean 5.9, range 3 to 9, est err 0.6]\n",
       "\n",
       "    if\n",
       "\tvolatile.acidity <= 0.31\n",
       "\tfree.sulfur.dioxide <= 30\n",
       "\talcohol > 9.1\n",
       "    then\n",
       "\toutcome = 280.4 - 282 density + 0.128 residual.sugar\n",
       "\t          + 0.0264 free.sulfur.dioxide - 3 volatile.acidity + 1.2 pH\n",
       "\t          + 0.65 citric.acid + 0.09 fixed.acidity + 0.56 sulphates\n",
       "\t          + 0.015 alcohol\n",
       "\n",
       "  Rule 17: [49 cases, mean 6.0, range 5 to 8, est err 0.5]\n",
       "\n",
       "    if\n",
       "\tvolatile.acidity > 0.155\n",
       "\tresidual.sugar > 8.8\n",
       "\tfree.sulfur.dioxide > 30\n",
       "\ttotal.sulfur.dioxide <= 130\n",
       "\tpH <= 3.26\n",
       "\talcohol > 9.1\n",
       "    then\n",
       "\toutcome = 173.5 - 169 density + 0.055 alcohol + 0.38 sulphates\n",
       "\t          + 0.002 residual.sugar\n",
       "\n",
       "  Rule 18: [114 cases, mean 6.1, range 3 to 9, est err 0.6]\n",
       "\n",
       "    if\n",
       "\tvolatile.acidity > 0.31\n",
       "\tcitric.acid <= 0.36\n",
       "\tresidual.sugar > 1.45\n",
       "\ttotal.sulfur.dioxide <= 97\n",
       "\talcohol > 9.1\n",
       "    then\n",
       "\toutcome = 302.3 - 305 density + 0.0128 total.sulfur.dioxide\n",
       "\t          + 0.096 residual.sugar + 1.94 citric.acid + 1.05 pH\n",
       "\t          + 0.17 fixed.acidity - 6.7 chlorides\n",
       "\t          + 0.0022 free.sulfur.dioxide - 0.21 volatile.acidity\n",
       "\t          + 0.013 alcohol + 0.09 sulphates\n",
       "\n",
       "  Rule 19: [145 cases, mean 6.1, range 5 to 8, est err 0.6]\n",
       "\n",
       "    if\n",
       "\tvolatile.acidity > 0.155\n",
       "\tfree.sulfur.dioxide > 30\n",
       "\ttotal.sulfur.dioxide <= 195\n",
       "\tsulphates > 0.64\n",
       "    then\n",
       "\toutcome = 206 - 209 density + 0.069 residual.sugar + 0.38 fixed.acidity\n",
       "\t          + 2.79 sulphates + 0.0155 free.sulfur.dioxide\n",
       "\t          - 0.0051 total.sulfur.dioxide - 1.71 citric.acid + 1.04 pH\n",
       "\n",
       "  Rule 20: [555 cases, mean 6.1, range 3 to 9, est err 0.6]\n",
       "\n",
       "    if\n",
       "\ttotal.sulfur.dioxide > 130\n",
       "\ttotal.sulfur.dioxide <= 235\n",
       "\tsulphates <= 0.64\n",
       "\talcohol > 10.4\n",
       "    then\n",
       "\toutcome = 108 + 0.276 alcohol - 109 density + 0.05 residual.sugar\n",
       "\t          + 0.77 pH - 1.02 volatile.acidity - 4.2 chlorides\n",
       "\t          + 0.78 sulphates + 0.08 fixed.acidity\n",
       "\t          + 0.0016 free.sulfur.dioxide - 0.0003 total.sulfur.dioxide\n",
       "\n",
       "  Rule 21: [73 cases, mean 6.2, range 4 to 8, est err 0.4]\n",
       "\n",
       "    if\n",
       "\tvolatile.acidity > 0.155\n",
       "\tcitric.acid <= 0.28\n",
       "\tresidual.sugar <= 8.8\n",
       "\tfree.sulfur.dioxide > 30\n",
       "\ttotal.sulfur.dioxide <= 130\n",
       "\tpH <= 3.26\n",
       "\tsulphates <= 0.64\n",
       "\talcohol > 9.1\n",
       "    then\n",
       "\toutcome = 4.2 + 0.147 residual.sugar + 0.47 alcohol + 3.75 sulphates\n",
       "\t          - 2.5 volatile.acidity - 5 density\n",
       "\n",
       "  Rule 22: [244 cases, mean 6.3, range 4 to 8, est err 0.6]\n",
       "\n",
       "    if\n",
       "\tcitric.acid > 0.28\n",
       "\tresidual.sugar <= 8.8\n",
       "\tfree.sulfur.dioxide > 30\n",
       "\ttotal.sulfur.dioxide <= 130\n",
       "\tpH <= 3.26\n",
       "    then\n",
       "\toutcome = 40.1 + 0.278 alcohol + 1.3 sulphates - 39 density\n",
       "\t          + 0.017 residual.sugar + 0.001 total.sulfur.dioxide + 0.17 pH\n",
       "\t          + 0.03 fixed.acidity\n",
       "\n",
       "  Rule 23: [106 cases, mean 6.3, range 4 to 8, est err 0.6]\n",
       "\n",
       "    if\n",
       "\tvolatile.acidity <= 0.155\n",
       "\tfree.sulfur.dioxide > 30\n",
       "    then\n",
       "\toutcome = 139.1 - 138 density + 0.058 residual.sugar + 0.71 pH\n",
       "\t          + 0.92 sulphates + 0.11 fixed.acidity - 0.73 volatile.acidity\n",
       "\t          + 0.055 alcohol - 0.0012 total.sulfur.dioxide\n",
       "\t          + 0.0007 free.sulfur.dioxide\n",
       "\n",
       "  Rule 24: [137 cases, mean 6.5, range 4 to 9, est err 0.6]\n",
       "\n",
       "    if\n",
       "\tvolatile.acidity > 0.155\n",
       "\tfree.sulfur.dioxide > 30\n",
       "\ttotal.sulfur.dioxide <= 130\n",
       "\tpH > 3.26\n",
       "\tsulphates <= 0.64\n",
       "\talcohol > 9.1\n",
       "    then\n",
       "\toutcome = 114.2 + 0.0142 total.sulfur.dioxide - 107 density\n",
       "\t          - 11.8 chlorides - 1.57 pH + 0.124 alcohol + 1.21 sulphates\n",
       "\t          + 1.16 volatile.acidity + 0.021 residual.sugar\n",
       "\t          + 0.04 fixed.acidity\n",
       "\n",
       "  Rule 25: [92 cases, mean 6.5, range 4 to 8, est err 0.6]\n",
       "\n",
       "    if\n",
       "\tvolatile.acidity <= 0.205\n",
       "\talcohol <= 9.1\n",
       "    then\n",
       "\toutcome = -200.7 + 210 density + 5.88 volatile.acidity + 23.9 chlorides\n",
       "\t          - 2.83 citric.acid - 1.17 pH\n",
       "\n",
       "\n",
       "Evaluation on training data (3750 cases):\n",
       "\n",
       "    Average  |error|                0.5\n",
       "    Relative |error|               0.67\n",
       "    Correlation coefficient        0.66\n",
       "\n",
       "\n",
       "\tAttribute usage:\n",
       "\t  Conds  Model\n",
       "\n",
       "\t   84%    93%    alcohol\n",
       "\t   80%    89%    volatile.acidity\n",
       "\t   70%    61%    free.sulfur.dioxide\n",
       "\t   63%    50%    total.sulfur.dioxide\n",
       "\t   44%    70%    sulphates\n",
       "\t   26%    44%    chlorides\n",
       "\t   22%    76%    fixed.acidity\n",
       "\t   16%    87%    residual.sugar\n",
       "\t   11%    86%    pH\n",
       "\t   11%    45%    citric.acid\n",
       "\t    8%    97%    density\n",
       "\n",
       "\n",
       "Time: 0.4 secs\n"
      ]
     },
     "metadata": {},
     "output_type": "display_data"
    }
   ],
   "source": [
    "library(Cubist)\n",
    "m.cubist <- cubist(wine_train[-12], wine_train$quality)\n",
    "m.cubist\n",
    "summary(m.cubist)"
   ]
  },
  {
   "cell_type": "code",
   "execution_count": 26,
   "metadata": {},
   "outputs": [
    {
     "data": {
      "text/plain": [
       "   Min. 1st Qu.  Median    Mean 3rd Qu.    Max. \n",
       "  3.677   5.416   5.906   5.848   6.238   7.393 "
      ]
     },
     "metadata": {},
     "output_type": "display_data"
    },
    {
     "data": {
      "text/html": [
       "0.620101458042146"
      ],
      "text/latex": [
       "0.620101458042146"
      ],
      "text/markdown": [
       "0.620101458042146"
      ],
      "text/plain": [
       "[1] 0.6201015"
      ]
     },
     "metadata": {},
     "output_type": "display_data"
    },
    {
     "data": {
      "text/html": [
       "0.533972496978082"
      ],
      "text/latex": [
       "0.533972496978082"
      ],
      "text/markdown": [
       "0.533972496978082"
      ],
      "text/plain": [
       "[1] 0.5339725"
      ]
     },
     "metadata": {},
     "output_type": "display_data"
    }
   ],
   "source": [
    "p.cubist <- predict(m.cubist, wine_test)\n",
    "summary(p.cubist)\n",
    "cor(p.cubist, wine_test$quality)\n",
    "MAE(p.cubist, wine_test$quality)"
   ]
  }
 ],
 "metadata": {
  "kernelspec": {
   "display_name": "R",
   "language": "R",
   "name": "ir"
  },
  "language_info": {
   "codemirror_mode": "r",
   "file_extension": ".r",
   "mimetype": "text/x-r-source",
   "name": "R",
   "pygments_lexer": "r",
   "version": "3.6.1"
  }
 },
 "nbformat": 4,
 "nbformat_minor": 2
}
