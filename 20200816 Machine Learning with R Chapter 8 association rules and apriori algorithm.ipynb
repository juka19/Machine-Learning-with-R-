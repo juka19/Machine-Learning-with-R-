{
 "cells": [
  {
   "cell_type": "markdown",
   "metadata": {},
   "source": [
    "# Groceries dataset: unsupervised learning and association rules: apriori algorithm\n",
    "The following exercise is taken from <b> Machine Learning with R</b> by <b> Brett Lantz </b> (Third Edition)\n",
    "\n",
    "The dataset used in the exercise is the <b>groceries</b> dataset. The dataset was orginainally published in a study by <b>Hahsler, Hornik and Reutterer</b> in 2005. The dataset here is downloaded from the textbook's github page. The dataset is also freely available through the <b>arules package</b> in R."
   ]
  },
  {
   "cell_type": "markdown",
   "metadata": {},
   "source": [
    "## Step 1: Collecting the data"
   ]
  },
  {
   "cell_type": "code",
   "execution_count": 3,
   "metadata": {},
   "outputs": [],
   "source": [
    "# transactional data requires a different read-in function\n",
    "library(arules)\n",
    "groceries <- read.transactions(\"https://raw.githubusercontent.com/PacktPublishing/Machine-Learning-with-R-Third-Edition/master/Chapter08/groceries.csv\", \n",
    "                              sep = \",\")"
   ]
  },
  {
   "cell_type": "markdown",
   "metadata": {},
   "source": [
    "## Step 2: Exploring and preparing the data"
   ]
  },
  {
   "cell_type": "code",
   "execution_count": 4,
   "metadata": {},
   "outputs": [
    {
     "data": {
      "text/plain": [
       "transactions as itemMatrix in sparse format with\n",
       " 9835 rows (elements/itemsets/transactions) and\n",
       " 169 columns (items) and a density of 0.02609146 \n",
       "\n",
       "most frequent items:\n",
       "      whole milk other vegetables       rolls/buns             soda \n",
       "            2513             1903             1809             1715 \n",
       "          yogurt          (Other) \n",
       "            1372            34055 \n",
       "\n",
       "element (itemset/transaction) length distribution:\n",
       "sizes\n",
       "   1    2    3    4    5    6    7    8    9   10   11   12   13   14   15   16 \n",
       "2159 1643 1299 1005  855  645  545  438  350  246  182  117   78   77   55   46 \n",
       "  17   18   19   20   21   22   23   24   26   27   28   29   32 \n",
       "  29   14   14    9   11    4    6    1    1    1    1    3    1 \n",
       "\n",
       "   Min. 1st Qu.  Median    Mean 3rd Qu.    Max. \n",
       "  1.000   2.000   3.000   4.409   6.000  32.000 \n",
       "\n",
       "includes extended item information - examples:\n",
       "            labels\n",
       "1 abrasive cleaner\n",
       "2 artif. sweetener\n",
       "3   baby cosmetics"
      ]
     },
     "metadata": {},
     "output_type": "display_data"
    }
   ],
   "source": [
    "summary(groceries)"
   ]
  },
  {
   "cell_type": "markdown",
   "metadata": {},
   "source": [
    "- density refers to the proportion of non-zero cells"
   ]
  },
  {
   "cell_type": "code",
   "execution_count": 5,
   "metadata": {},
   "outputs": [
    {
     "name": "stdout",
     "output_type": "stream",
     "text": [
      "    items                     \n",
      "[1] {citrus fruit,            \n",
      "     margarine,               \n",
      "     ready soups,             \n",
      "     semi-finished bread}     \n",
      "[2] {coffee,                  \n",
      "     tropical fruit,          \n",
      "     yogurt}                  \n",
      "[3] {whole milk}              \n",
      "[4] {cream cheese,            \n",
      "     meat spreads,            \n",
      "     pip fruit,               \n",
      "     yogurt}                  \n",
      "[5] {condensed milk,          \n",
      "     long life bakery product,\n",
      "     other vegetables,        \n",
      "     whole milk}              \n"
     ]
    }
   ],
   "source": [
    "inspect(groceries[1:5])"
   ]
  },
  {
   "cell_type": "code",
   "execution_count": 6,
   "metadata": {},
   "outputs": [
    {
     "data": {
      "text/html": [
       "<style>\n",
       ".dl-inline {width: auto; margin:0; padding: 0}\n",
       ".dl-inline>dt, .dl-inline>dd {float: none; width: auto; display: inline-block}\n",
       ".dl-inline>dt::after {content: \":\\0020\"; padding-right: .5ex}\n",
       ".dl-inline>dt:not(:first-of-type) {padding-left: .5ex}\n",
       "</style><dl class=dl-inline><dt>abrasive cleaner</dt><dd>0.00355871886120996</dd><dt>artif. sweetener</dt><dd>0.0032536858159634</dd><dt>baby cosmetics</dt><dd>0.000610066090493137</dd></dl>\n"
      ],
      "text/latex": [
       "\\begin{description*}\n",
       "\\item[abrasive cleaner] 0.00355871886120996\n",
       "\\item[artif. sweetener] 0.0032536858159634\n",
       "\\item[baby cosmetics] 0.000610066090493137\n",
       "\\end{description*}\n"
      ],
      "text/markdown": [
       "abrasive cleaner\n",
       ":   0.00355871886120996artif. sweetener\n",
       ":   0.0032536858159634baby cosmetics\n",
       ":   0.000610066090493137\n",
       "\n"
      ],
      "text/plain": [
       "abrasive cleaner artif. sweetener   baby cosmetics \n",
       "    0.0035587189     0.0032536858     0.0006100661 "
      ]
     },
     "metadata": {},
     "output_type": "display_data"
    }
   ],
   "source": [
    "# view support level (relative frequency) for first three items\n",
    "itemFrequency(groceries[,1:3])"
   ]
  },
  {
   "cell_type": "markdown",
   "metadata": {},
   "source": [
    "### Visualizing item support - item frequency plots"
   ]
  },
  {
   "cell_type": "code",
   "execution_count": 8,
   "metadata": {},
   "outputs": [
    {
     "data": {
      "image/png": "[encoded data removed]",
      "text/plain": [
       "plot without title"
      ]
     },
     "metadata": {
      "image/png": {
       "height": 420,
       "width": 420
      }
     },
     "output_type": "display_data"
    },
    {
     "data": {
      "image/png": "[encoded data removed]",
      "text/plain": [
       "plot without title"
      ]
     },
     "metadata": {
      "image/png": {
       "height": 420,
       "width": 420
      }
     },
     "output_type": "display_data"
    }
   ],
   "source": [
    "itemFrequencyPlot(groceries, support = 0.1)\n",
    "itemFrequencyPlot(groceries, topN = 20)"
   ]
  },
  {
   "cell_type": "markdown",
   "metadata": {},
   "source": [
    "### visualizing the transaction data - plotting the sparse matrix"
   ]
  },
  {
   "cell_type": "code",
   "execution_count": 14,
   "metadata": {},
   "outputs": [
    {
     "data": {
      "image/png": "[encoded data removed]",
      "text/plain": [
       "plot without title"
      ]
     },
     "metadata": {
      "image/png": {
       "height": 420,
       "width": 420
      }
     },
     "output_type": "display_data"
    }
   ],
   "source": [
    "image(groceries[1:20])\n",
    "# cells in the matrix are filled in black for transactions (rows) where the item (column) was purchased\n",
    "# also possible to look at a random sample via wrapping image() function around sample(x, n) "
   ]
  },
  {
   "cell_type": "markdown",
   "metadata": {},
   "source": [
    "## Step 3: Training a model on the data"
   ]
  },
  {
   "cell_type": "code",
   "execution_count": 17,
   "metadata": {},
   "outputs": [
    {
     "name": "stdout",
     "output_type": "stream",
     "text": [
      "Apriori\n",
      "\n",
      "Parameter specification:\n",
      " confidence minval smax arem  aval originalSupport maxtime support minlen\n",
      "       0.25    0.1    1 none FALSE            TRUE       5   0.006      2\n",
      " maxlen target  ext\n",
      "     10  rules TRUE\n",
      "\n",
      "Algorithmic control:\n",
      " filter tree heap memopt load sort verbose\n",
      "    0.1 TRUE TRUE  FALSE TRUE    2    TRUE\n",
      "\n",
      "Absolute minimum support count: 59 \n",
      "\n",
      "set item appearances ...[0 item(s)] done [0.00s].\n",
      "set transactions ...[169 item(s), 9835 transaction(s)] done [0.00s].\n",
      "sorting and recoding items ... [109 item(s)] done [0.00s].\n",
      "creating transaction tree ... done [0.00s].\n",
      "checking subsets of size 1 2 3 4 done [0.00s].\n",
      "writing ... [463 rule(s)] done [0.00s].\n",
      "creating S4 object  ... done [0.00s].\n"
     ]
    },
    {
     "data": {
      "text/plain": [
       "set of 463 rules "
      ]
     },
     "metadata": {},
     "output_type": "display_data"
    }
   ],
   "source": [
    "# an apriori function is already in the arules packages\n",
    "# the standard settings are support = 0.1 and confidency 0.8. However, there are just 8 items > 0.1 support\n",
    "groceryrules <- apriori(groceries, parameter = list(support = 0.006, confidence = 0.25, minlen = 2))\n",
    "groceryrules"
   ]
  },
  {
   "cell_type": "markdown",
   "metadata": {},
   "source": [
    "## Step 4: Evaluating model performance"
   ]
  },
  {
   "cell_type": "code",
   "execution_count": 18,
   "metadata": {},
   "outputs": [
    {
     "data": {
      "text/plain": [
       "set of 463 rules\n",
       "\n",
       "rule length distribution (lhs + rhs):sizes\n",
       "  2   3   4 \n",
       "150 297  16 \n",
       "\n",
       "   Min. 1st Qu.  Median    Mean 3rd Qu.    Max. \n",
       "  2.000   2.000   3.000   2.711   3.000   4.000 \n",
       "\n",
       "summary of quality measures:\n",
       "    support           confidence        coverage             lift       \n",
       " Min.   :0.006101   Min.   :0.2500   Min.   :0.009964   Min.   :0.9932  \n",
       " 1st Qu.:0.007117   1st Qu.:0.2971   1st Qu.:0.018709   1st Qu.:1.6229  \n",
       " Median :0.008744   Median :0.3554   Median :0.024809   Median :1.9332  \n",
       " Mean   :0.011539   Mean   :0.3786   Mean   :0.032608   Mean   :2.0351  \n",
       " 3rd Qu.:0.012303   3rd Qu.:0.4495   3rd Qu.:0.035892   3rd Qu.:2.3565  \n",
       " Max.   :0.074835   Max.   :0.6600   Max.   :0.255516   Max.   :3.9565  \n",
       "     count      \n",
       " Min.   : 60.0  \n",
       " 1st Qu.: 70.0  \n",
       " Median : 86.0  \n",
       " Mean   :113.5  \n",
       " 3rd Qu.:121.0  \n",
       " Max.   :736.0  \n",
       "\n",
       "mining info:\n",
       "      data ntransactions support confidence\n",
       " groceries          9835   0.006       0.25"
      ]
     },
     "metadata": {},
     "output_type": "display_data"
    }
   ],
   "source": [
    "summary(groceryrules)"
   ]
  },
  {
   "cell_type": "markdown",
   "metadata": {},
   "source": [
    "<b>the lift measure is a particularly important one:</b>\n",
    "-  it measures how much more likely one item or itemset is to be purchased relative to its typical rate of purchase, given that you know another item/ itemsset has been purchased \n",
    "- if lift > 1 this implies that items are found together more often that expected by chance alone"
   ]
  },
  {
   "cell_type": "code",
   "execution_count": 19,
   "metadata": {},
   "outputs": [
    {
     "name": "stdout",
     "output_type": "stream",
     "text": [
      "    lhs                rhs               support     confidence coverage  \n",
      "[1] {potted plants} => {whole milk}      0.006914082 0.4000000  0.01728521\n",
      "[2] {pasta}         => {whole milk}      0.006100661 0.4054054  0.01504830\n",
      "[3] {herbs}         => {root vegetables} 0.007015760 0.4312500  0.01626843\n",
      "    lift     count\n",
      "[1] 1.565460 68   \n",
      "[2] 1.586614 60   \n",
      "[3] 3.956477 69   \n"
     ]
    }
   ],
   "source": [
    "inspect(groceryrules[1:3])"
   ]
  },
  {
   "cell_type": "markdown",
   "metadata": {},
   "source": [
    "## Step 5: Improving model performance"
   ]
  },
  {
   "cell_type": "markdown",
   "metadata": {},
   "source": [
    "### Sorting the set of association rules"
   ]
  },
  {
   "cell_type": "code",
   "execution_count": 20,
   "metadata": {},
   "outputs": [
    {
     "name": "stdout",
     "output_type": "stream",
     "text": [
      "     lhs                   rhs                      support confidence   coverage     lift count\n",
      "[1]  {herbs}            => {root vegetables}    0.007015760  0.4312500 0.01626843 3.956477    69\n",
      "[2]  {berries}          => {whipped/sour cream} 0.009049314  0.2721713 0.03324860 3.796886    89\n",
      "[3]  {other vegetables,                                                                         \n",
      "      tropical fruit,                                                                           \n",
      "      whole milk}       => {root vegetables}    0.007015760  0.4107143 0.01708185 3.768074    69\n",
      "[4]  {beef,                                                                                     \n",
      "      other vegetables} => {root vegetables}    0.007930859  0.4020619 0.01972547 3.688692    78\n",
      "[5]  {other vegetables,                                                                         \n",
      "      tropical fruit}   => {pip fruit}          0.009456024  0.2634561 0.03589222 3.482649    93\n",
      "[6]  {beef,                                                                                     \n",
      "      whole milk}       => {root vegetables}    0.008032537  0.3779904 0.02125064 3.467851    79\n",
      "[7]  {other vegetables,                                                                         \n",
      "      pip fruit}        => {tropical fruit}     0.009456024  0.3618677 0.02613116 3.448613    93\n",
      "[8]  {pip fruit,                                                                                \n",
      "      yogurt}           => {tropical fruit}     0.006405694  0.3559322 0.01799695 3.392048    63\n",
      "[9]  {citrus fruit,                                                                             \n",
      "      other vegetables} => {root vegetables}    0.010371124  0.3591549 0.02887646 3.295045   102\n",
      "[10] {other vegetables,                                                                         \n",
      "      whole milk,                                                                               \n",
      "      yogurt}           => {tropical fruit}     0.007625826  0.3424658 0.02226741 3.263712    75\n"
     ]
    }
   ],
   "source": [
    "inspect(sort(groceryrules, by = \"lift\")[1:10])"
   ]
  },
  {
   "cell_type": "markdown",
   "metadata": {},
   "source": [
    "### Taking subsets of association rules"
   ]
  },
  {
   "cell_type": "code",
   "execution_count": 21,
   "metadata": {},
   "outputs": [
    {
     "name": "stdout",
     "output_type": "stream",
     "text": [
      "    lhs          rhs                  support     confidence coverage  lift    \n",
      "[1] {berries} => {whipped/sour cream} 0.009049314 0.2721713  0.0332486 3.796886\n",
      "[2] {berries} => {yogurt}             0.010574479 0.3180428  0.0332486 2.279848\n",
      "[3] {berries} => {other vegetables}   0.010269446 0.3088685  0.0332486 1.596280\n",
      "[4] {berries} => {whole milk}         0.011794611 0.3547401  0.0332486 1.388328\n",
      "    count\n",
      "[1]  89  \n",
      "[2] 104  \n",
      "[3] 101  \n",
      "[4] 116  \n"
     ]
    }
   ],
   "source": [
    "berryrules <- subset(groceryrules, items %in% \"berries\")\n",
    "inspect(berryrules)"
   ]
  },
  {
   "cell_type": "code",
   "execution_count": 32,
   "metadata": {},
   "outputs": [
    {
     "name": "stdout",
     "output_type": "stream",
     "text": [
      "    lhs                               rhs                support     confidence\n",
      "[1] {brown bread}                  => {whole milk}       0.025216065 0.3887147 \n",
      "[2] {brown bread}                  => {other vegetables} 0.018708693 0.2884013 \n",
      "[3] {white bread}                  => {whole milk}       0.017081851 0.4057971 \n",
      "[4] {white bread}                  => {other vegetables} 0.013726487 0.3260870 \n",
      "[5] {brown bread,other vegetables} => {whole milk}       0.009354347 0.5000000 \n",
      "[6] {brown bread,whole milk}       => {other vegetables} 0.009354347 0.3709677 \n",
      "[7] {semi-finished bread}          => {whole milk}       0.007117438 0.4022989 \n",
      "[8] {brown bread,yogurt}           => {whole milk}       0.007117438 0.4895105 \n",
      "[9] {brown bread,whole milk}       => {yogurt}           0.007117438 0.2822581 \n",
      "    coverage   lift     count\n",
      "[1] 0.06487036 1.521293 248  \n",
      "[2] 0.06487036 1.490503 184  \n",
      "[3] 0.04209456 1.588147 168  \n",
      "[4] 0.04209456 1.685268 135  \n",
      "[5] 0.01870869 1.956825  92  \n",
      "[6] 0.02521607 1.917219  92  \n",
      "[7] 0.01769192 1.574457  70  \n",
      "[8] 0.01453991 1.915772  70  \n",
      "[9] 0.02521607 2.023329  70  \n"
     ]
    }
   ],
   "source": [
    "# using \"%pin%\" operator to check for partial matches\n",
    "inspect(sort(subset(groceryrules, items %pin% \"bread\")), by = \"lift\")"
   ]
  },
  {
   "cell_type": "code",
   "execution_count": 33,
   "metadata": {},
   "outputs": [
    {
     "name": "stdout",
     "output_type": "stream",
     "text": [
      "    lhs                           rhs             support     confidence\n",
      "[1] {bottled water}            => {soda}          0.028978139 0.2621895 \n",
      "[2] {bottled water,soda}       => {whole milk}    0.007524148 0.2596491 \n",
      "[3] {bottled water,soda}       => {yogurt}        0.007422471 0.2561404 \n",
      "[4] {bottled water,yogurt}     => {soda}          0.007422471 0.3230088 \n",
      "[5] {soda,yogurt}              => {bottled water} 0.007422471 0.2713755 \n",
      "[6] {bottled water,rolls/buns} => {soda}          0.006812405 0.2815126 \n",
      "    coverage   lift     count\n",
      "[1] 0.11052364 1.503577 285  \n",
      "[2] 0.02897814 1.016176  74  \n",
      "[3] 0.02897814 1.836108  73  \n",
      "[4] 0.02297916 1.852357  73  \n",
      "[5] 0.02735130 2.455361  73  \n",
      "[6] 0.02419929 1.614389  67  \n"
     ]
    }
   ],
   "source": [
    "# Using the \"%ain%\" operator to look up complete matches (that is, all terms must be included)\n",
    "inspect(sort(subset(groceryrules, items %ain% c(\"bottled water\", \"soda\"))), by = \"lift\")"
   ]
  },
  {
   "cell_type": "code",
   "execution_count": null,
   "metadata": {},
   "outputs": [],
   "source": []
  }
 ],
 "metadata": {
  "kernelspec": {
   "display_name": "R",
   "language": "R",
   "name": "ir"
  },
  "language_info": {
   "codemirror_mode": "r",
   "file_extension": ".r",
   "mimetype": "text/x-r-source",
   "name": "R",
   "pygments_lexer": "r",
   "version": "3.6.1"
  }
 },
 "nbformat": 4,
 "nbformat_minor": 2
}
