{
 "cells": [
  {
   "cell_type": "markdown",
   "metadata": {},
   "source": [
    "# SMS spam collection dataset: Naive Bayes algorithm\n",
    "The following exercise is taken from <b> Machine Learning with R</b> by <b> Brett Lantz </b> (Third Edition)\n",
    "\n",
    "The dataset used in the exercise is the <b>SMS Spam Collection</b> dataset and originates from <b> UCI Machine Learning Repository</b>. Initially, the dataset was developed by <b>Gómez, Almeida and Yamakami (2012)</b>. The dataset here is downloaded from the textbook's github page."
   ]
  },
  {
   "cell_type": "markdown",
   "metadata": {},
   "source": [
    "## Step 1: Collecting data"
   ]
  },
  {
   "cell_type": "code",
   "execution_count": 1,
   "metadata": {},
   "outputs": [],
   "source": [
    "sms_raw <- read.csv(\"https://raw.githubusercontent.com/PacktPublishing/Machine-Learning-with-R-Third-Edition/master/Chapter04/sms_spam.csv\",\n",
    "                   stringsAsFactors = F)"
   ]
  },
  {
   "cell_type": "markdown",
   "metadata": {},
   "source": [
    "## Step 2: Exploring and preparing the data"
   ]
  },
  {
   "cell_type": "code",
   "execution_count": 2,
   "metadata": {},
   "outputs": [
    {
     "name": "stdout",
     "output_type": "stream",
     "text": [
      "'data.frame':\t5559 obs. of  2 variables:\n",
      " $ type: chr  \"ham\" \"ham\" \"ham\" \"spam\" ...\n",
      " $ text: chr  \"Hope you are having a good week. Just checking in\" \"K..give back my thanks.\" \"Am also doing in cbe only. But have to pay.\" \"complimentary 4 STAR Ibiza Holiday or Â£10,000 cash needs your URGENT collection. 09066364349 NOW from Landline\"| __truncated__ ...\n"
     ]
    }
   ],
   "source": [
    "str(sms_raw)"
   ]
  },
  {
   "cell_type": "code",
   "execution_count": 4,
   "metadata": {},
   "outputs": [
    {
     "data": {
      "text/plain": [
       "\n",
       " ham spam \n",
       "4812  747 "
      ]
     },
     "metadata": {},
     "output_type": "display_data"
    }
   ],
   "source": [
    "# The SMS type has erroneously been classfied as character, therefore it must be converted to a factor\n",
    "sms_raw$type <- factor(sms_raw$type)\n",
    "table(sms_raw$type)"
   ]
  },
  {
   "cell_type": "markdown",
   "metadata": {},
   "source": [
    "### Data preparation - cleaning and standardizing test data"
   ]
  },
  {
   "cell_type": "code",
   "execution_count": 8,
   "metadata": {},
   "outputs": [
    {
     "name": "stdout",
     "output_type": "stream",
     "text": [
      "<<VCorpus>>\n",
      "Metadata:  corpus specific: 0, document level (indexed): 0\n",
      "Content:  documents: 5559\n",
      "<<VCorpus>>\n",
      "Metadata:  corpus specific: 0, document level (indexed): 0\n",
      "Content:  documents: 2\n",
      "\n",
      "[[1]]\n",
      "<<PlainTextDocument>>\n",
      "Metadata:  7\n",
      "Content:  chars: 49\n",
      "\n",
      "[[2]]\n",
      "<<PlainTextDocument>>\n",
      "Metadata:  7\n",
      "Content:  chars: 23\n",
      "\n"
     ]
    },
    {
     "data": {
      "text/html": [
       "'Hope you are having a good week. Just checking in'"
      ],
      "text/latex": [
       "'Hope you are having a good week. Just checking in'"
      ],
      "text/markdown": [
       "'Hope you are having a good week. Just checking in'"
      ],
      "text/plain": [
       "[1] \"Hope you are having a good week. Just checking in\""
      ]
     },
     "metadata": {},
     "output_type": "display_data"
    }
   ],
   "source": [
    "library(tm)\n",
    "sms_corpus <- VCorpus(VectorSource(sms_raw$text))\n",
    "print(sms_corpus)\n",
    "inspect(sms_corpus[1:2])\n",
    "as.character(sms_corpus[[1]])"
   ]
  },
  {
   "cell_type": "code",
   "execution_count": 17,
   "metadata": {},
   "outputs": [
    {
     "data": {
      "text/html": [
       "'hope you are having a good week. just checking in'"
      ],
      "text/latex": [
       "'hope you are having a good week. just checking in'"
      ],
      "text/markdown": [
       "'hope you are having a good week. just checking in'"
      ],
      "text/plain": [
       "[1] \"hope you are having a good week. just checking in\""
      ]
     },
     "metadata": {},
     "output_type": "display_data"
    }
   ],
   "source": [
    "# Transforming strings to lower case characters\n",
    "sms_corpus_clean <- tm_map(sms_corpus, content_transformer(tolower))\n",
    "as.character(sms_corpus_clean[[1]])"
   ]
  },
  {
   "cell_type": "code",
   "execution_count": 18,
   "metadata": {},
   "outputs": [],
   "source": [
    "# Remove numbers from strings\n",
    "sms_corpus_clean <- tm_map(sms_corpus_clean, removeNumbers)\n",
    "# Remove stop words\n",
    "sms_corpus_clean <- tm_map(sms_corpus_clean, removeWords, stopwords())\n",
    "# elimintating punctuation\n",
    "sms_corpus_clean <- tm_map(sms_corpus_clean, removePunctuation)\n",
    "\n",
    "library(SnowballC)\n",
    "# Stemming words\n",
    "sms_corpus_clean <- tm_map(sms_corpus_clean, stemDocument)\n",
    "# Remove blank spaces\n",
    "sms_corpus_clean <- tm_map(sms_corpus_clean, stripWhitespace)"
   ]
  },
  {
   "cell_type": "code",
   "execution_count": 19,
   "metadata": {},
   "outputs": [
    {
     "data": {
      "text/html": [
       "'Hope you are having a good week. Just checking in'"
      ],
      "text/latex": [
       "'Hope you are having a good week. Just checking in'"
      ],
      "text/markdown": [
       "'Hope you are having a good week. Just checking in'"
      ],
      "text/plain": [
       "[1] \"Hope you are having a good week. Just checking in\""
      ]
     },
     "metadata": {},
     "output_type": "display_data"
    },
    {
     "data": {
      "text/html": [
       "'hope good week just check'"
      ],
      "text/latex": [
       "'hope good week just check'"
      ],
      "text/markdown": [
       "'hope good week just check'"
      ],
      "text/plain": [
       "[1] \"hope good week just check\""
      ]
     },
     "metadata": {},
     "output_type": "display_data"
    }
   ],
   "source": [
    "as.character(sms_corpus[[1]])\n",
    "as.character(sms_corpus_clean[[1]])"
   ]
  },
  {
   "cell_type": "markdown",
   "metadata": {},
   "source": [
    "### Data preparation - splitting text documents into words"
   ]
  },
  {
   "cell_type": "code",
   "execution_count": 21,
   "metadata": {},
   "outputs": [
    {
     "data": {
      "text/plain": [
       "<<DocumentTermMatrix (documents: 5559, terms: 6559)>>\n",
       "Non-/sparse entries: 42146/36419335\n",
       "Sparsity           : 100%\n",
       "Maximal term length: 40\n",
       "Weighting          : term frequency (tf)"
      ]
     },
     "metadata": {},
     "output_type": "display_data"
    },
    {
     "data": {
      "text/plain": [
       "<<DocumentTermMatrix (documents: 5559, terms: 6949)>>\n",
       "Non-/sparse entries: 43204/38586287\n",
       "Sparsity           : 100%\n",
       "Maximal term length: 40\n",
       "Weighting          : term frequency (tf)"
      ]
     },
     "metadata": {},
     "output_type": "display_data"
    }
   ],
   "source": [
    "sms_dtm <- DocumentTermMatrix(sms_corpus_clean)\n",
    "\n",
    "# Theoretically, the whole cleaning process could have been performed at this stage in one step:\n",
    "sms_dtm2 <- DocumentTermMatrix(sms_corpus, control = list(\n",
    "                                                          to_lower = TRUE,\n",
    "                                                          removeNumbers = TRUE,\n",
    "                                                          stopwords = TRUE,\n",
    "                                                          removePunctuation = TRUE,\n",
    "                                                          stemming = TRUE))\n",
    "# However, the order in the preprocessing matters, therefore, there are slight differences between the two methods. \n",
    "sms_dtm\n",
    "sms_dtm2"
   ]
  },
  {
   "cell_type": "markdown",
   "metadata": {},
   "source": [
    "### Data preparation - creating training and test datasets"
   ]
  },
  {
   "cell_type": "code",
   "execution_count": 22,
   "metadata": {},
   "outputs": [
    {
     "data": {
      "text/html": [
       "4169.25"
      ],
      "text/latex": [
       "4169.25"
      ],
      "text/markdown": [
       "4169.25"
      ],
      "text/plain": [
       "[1] 4169.25"
      ]
     },
     "metadata": {},
     "output_type": "display_data"
    }
   ],
   "source": [
    "0.75*5559"
   ]
  },
  {
   "cell_type": "code",
   "execution_count": 25,
   "metadata": {},
   "outputs": [
    {
     "data": {
      "text/plain": [
       "sms_train_labels\n",
       "      ham      spam \n",
       "0.8647158 0.1352842 "
      ]
     },
     "metadata": {},
     "output_type": "display_data"
    },
    {
     "data": {
      "text/plain": [
       "sms_test_labels\n",
       "      ham      spam \n",
       "0.8683453 0.1316547 "
      ]
     },
     "metadata": {},
     "output_type": "display_data"
    }
   ],
   "source": [
    "sms_dtm_train <- sms_dtm[1:4169, ]\n",
    "sms_dtm_test <- sms_dtm[4170:5559, ]\n",
    "\n",
    "# Create labels\n",
    "sms_train_labels <- sms_raw[1:4169, ]$type\n",
    "sms_test_labels <- sms_raw[4170:5559, ]$type\n",
    "\n",
    "# Confirm that the subsets are representative\n",
    "prop.table(table(sms_train_labels))\n",
    "prop.table(table(sms_test_labels))"
   ]
  },
  {
   "cell_type": "markdown",
   "metadata": {},
   "source": [
    "### Visualizing text data - word clouds"
   ]
  },
  {
   "cell_type": "code",
   "execution_count": 29,
   "metadata": {},
   "outputs": [
    {
     "name": "stderr",
     "output_type": "stream",
     "text": [
      "Warning message:\n",
      "\"package 'wordcloud' was built under R version 3.6.2\"\n",
      "Loading required package: RColorBrewer\n",
      "\n"
     ]
    },
    {
     "data": {
      "image/png": "[encoded data removed]",
      "text/plain": [
       "plot without title"
      ]
     },
     "metadata": {
      "image/png": {
       "height": 420,
       "width": 420
      }
     },
     "output_type": "display_data"
    }
   ],
   "source": [
    "# Visualize corpus with a word cloud\n",
    "library(wordcloud)\n",
    "wordcloud(sms_corpus_clean, min.freq = 50, random.order = F)"
   ]
  },
  {
   "cell_type": "code",
   "execution_count": 33,
   "metadata": {},
   "outputs": [
    {
     "name": "stderr",
     "output_type": "stream",
     "text": [
      "Warning message in tm_map.SimpleCorpus(corpus, tm::removePunctuation):\n",
      "\"transformation drops documents\"\n",
      "Warning message in tm_map.SimpleCorpus(corpus, function(x) tm::removeWords(x, tm::stopwords())):\n",
      "\"transformation drops documents\"\n",
      "Warning message in tm_map.SimpleCorpus(corpus, tm::removePunctuation):\n",
      "\"transformation drops documents\"\n",
      "Warning message in tm_map.SimpleCorpus(corpus, function(x) tm::removeWords(x, tm::stopwords())):\n",
      "\"transformation drops documents\"\n"
     ]
    },
    {
     "data": {
      "image/png": "[encoded data removed]",
      "text/plain": [
       "plot without title"
      ]
     },
     "metadata": {
      "image/png": {
       "height": 420,
       "width": 420
      }
     },
     "output_type": "display_data"
    },
    {
     "data": {
      "image/png": "[encoded data removed]",
      "text/plain": [
       "plot without title"
      ]
     },
     "metadata": {
      "image/png": {
       "height": 420,
       "width": 420
      }
     },
     "output_type": "display_data"
    }
   ],
   "source": [
    "# Subset into spam and ham, then visualize\n",
    "spam <- subset(sms_raw, type == \"spam\")\n",
    "ham <- subset(sms_raw, type == \"ham\")\n",
    "\n",
    "wordcloud(spam$text, min.freq = 40, scale = c(3, 0,7))\n",
    "wordcloud(ham$text, min.freq = 40, scale = c(3, 0,7))"
   ]
  },
  {
   "cell_type": "markdown",
   "metadata": {},
   "source": [
    "### Data preparation - creating indicator features for frequent words"
   ]
  },
  {
   "cell_type": "code",
   "execution_count": 34,
   "metadata": {},
   "outputs": [
    {
     "name": "stdout",
     "output_type": "stream",
     "text": [
      " chr [1:1138] \"â£wk\" \"â\\200“\" \"abiola\" \"abl\" \"abt\" \"accept\" \"access\" ...\n"
     ]
    }
   ],
   "source": [
    "# Eliminating all words appearing less than 5 times\n",
    "sms_freq_words <- findFreqTerms(sms_dtm_train, 5)\n",
    "str(sms_freq_words)"
   ]
  },
  {
   "cell_type": "code",
   "execution_count": 38,
   "metadata": {},
   "outputs": [],
   "source": [
    "# filter training and test DTMs for frequent words vector\n",
    "sms_dtm_freq_train <- sms_dtm_train[, sms_freq_words]\n",
    "sms_dtm_freq_test <- sms_dtm_test[, sms_freq_words]\n",
    "\n",
    "# Convert numerical variable into a categorical variable\n",
    "convert_counts <- function(x) {\n",
    "    x <- ifelse(x > 0, \"Yes\", \"No\")\n",
    "}\n",
    "\n",
    "sms_train <- apply(sms_dtm_freq_train, MARGIN = 2, convert_counts)\n",
    "sms_test <- apply(sms_dtm_freq_test, MARGIN = 2, convert_counts)\n",
    "# Result is a character-type matrix indicating Yes or No for whether the word appears in the particular message"
   ]
  },
  {
   "cell_type": "markdown",
   "metadata": {},
   "source": [
    "## Step 3: Training a model on the data"
   ]
  },
  {
   "cell_type": "code",
   "execution_count": 39,
   "metadata": {},
   "outputs": [],
   "source": [
    "library(e1071)\n",
    "# Training the model\n",
    "sms_classifier <- naiveBayes(sms_train, sms_train_labels)"
   ]
  },
  {
   "cell_type": "markdown",
   "metadata": {},
   "source": [
    "## Step 4: Evaluating model performance"
   ]
  },
  {
   "cell_type": "code",
   "execution_count": 40,
   "metadata": {},
   "outputs": [
    {
     "name": "stderr",
     "output_type": "stream",
     "text": [
      "Warning message:\n",
      "\"package 'gmodels' was built under R version 3.6.3\"\n"
     ]
    },
    {
     "name": "stdout",
     "output_type": "stream",
     "text": [
      "\n",
      " \n",
      "   Cell Contents\n",
      "|-------------------------|\n",
      "|                       N |\n",
      "|         N / Table Total |\n",
      "|-------------------------|\n",
      "\n",
      " \n",
      "Total Observations in Table:  1390 \n",
      "\n",
      " \n",
      "             | actual \n",
      "   predicted |       ham |      spam | Row Total | \n",
      "-------------|-----------|-----------|-----------|\n",
      "         ham |      1201 |        30 |      1231 | \n",
      "             |     0.864 |     0.022 |           | \n",
      "-------------|-----------|-----------|-----------|\n",
      "        spam |         6 |       153 |       159 | \n",
      "             |     0.004 |     0.110 |           | \n",
      "-------------|-----------|-----------|-----------|\n",
      "Column Total |      1207 |       183 |      1390 | \n",
      "-------------|-----------|-----------|-----------|\n",
      "\n",
      " \n"
     ]
    }
   ],
   "source": [
    "# Classification of test set\n",
    "sms_test_pred <- predict(sms_classifier, sms_test)\n",
    "\n",
    "# Evaluating performance with a confusion matrix\n",
    "library(gmodels)\n",
    "CrossTable(sms_test_pred, sms_test_labels,\n",
    "          prop.chisq = F, prop.c = F, prop.r = F,\n",
    "          dnn = c(\"predicted\", \"actual\"))"
   ]
  },
  {
   "cell_type": "markdown",
   "metadata": {},
   "source": [
    "- 30 spam SMS were erroneously classified as ham\n",
    "- 6 ham SMS were erroneously classified as spam\n",
    "- incorrect classification 36/1390 is 2.6%"
   ]
  },
  {
   "cell_type": "markdown",
   "metadata": {},
   "source": [
    "## Step 5: Improving model perfomance"
   ]
  },
  {
   "cell_type": "code",
   "execution_count": 43,
   "metadata": {},
   "outputs": [
    {
     "name": "stdout",
     "output_type": "stream",
     "text": [
      "\n",
      " \n",
      "   Cell Contents\n",
      "|-------------------------|\n",
      "|                       N |\n",
      "|         N / Table Total |\n",
      "|-------------------------|\n",
      "\n",
      " \n",
      "Total Observations in Table:  1390 \n",
      "\n",
      " \n",
      "             | actual \n",
      "   predicted |       ham |      spam | Row Total | \n",
      "-------------|-----------|-----------|-----------|\n",
      "         ham |      1202 |        28 |      1230 | \n",
      "             |     0.865 |     0.020 |           | \n",
      "-------------|-----------|-----------|-----------|\n",
      "        spam |         5 |       155 |       160 | \n",
      "             |     0.004 |     0.112 |           | \n",
      "-------------|-----------|-----------|-----------|\n",
      "Column Total |      1207 |       183 |      1390 | \n",
      "-------------|-----------|-----------|-----------|\n",
      "\n",
      " \n"
     ]
    }
   ],
   "source": [
    "# There was no Laplace estimator used which skews the impact that words have that only appear in one class\n",
    "sms_classifier2 <- naiveBayes(sms_train, sms_train_labels, laplace = 1)\n",
    "\n",
    "# Predict test set based on the new classifier\n",
    "sms_test_pred2 <- predict(sms_classifier2, sms_test)\n",
    "\n",
    "CrossTable(sms_test_pred2, sms_test_labels,\n",
    "          prop.chisq = F, prop.c = F, prop.r = F,\n",
    "          dnn = c(\"predicted\", \"actual\"))"
   ]
  },
  {
   "cell_type": "markdown",
   "metadata": {},
   "source": [
    "- The Laplace estimator reduced:\n",
    "    - the false positives by 2\n",
    "    - the false negatives by 1\n",
    "- Might seem like a small improvement, yet in the light of the strong prior performance it is quite impressive"
   ]
  }
 ],
 "metadata": {
  "kernelspec": {
   "display_name": "R",
   "language": "R",
   "name": "ir"
  },
  "language_info": {
   "codemirror_mode": "r",
   "file_extension": ".r",
   "mimetype": "text/x-r-source",
   "name": "R",
   "pygments_lexer": "r",
   "version": "3.6.1"
  }
 },
 "nbformat": 4,
 "nbformat_minor": 2
}
